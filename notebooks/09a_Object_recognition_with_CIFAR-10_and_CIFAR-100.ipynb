{
 "cells": [
  {
   "cell_type": "code",
   "execution_count": 1,
   "metadata": {
    "collapsed": false
   },
   "outputs": [],
   "source": [
    "import os\n",
    "import tensorflow as tf\n",
    "import numpy as np\n",
    "from mlp.data_providers import CIFAR10DataProvider, CIFAR100DataProvider\n",
    "import matplotlib.pyplot as plt\n",
    "import time\n",
    "from scipy import ndimage\n",
    "%matplotlib inline"
   ]
  },
  {
   "cell_type": "markdown",
   "metadata": {},
   "source": [
    "### CIFAR-10"
   ]
  },
  {
   "cell_type": "code",
   "execution_count": 2,
   "metadata": {
    "collapsed": false
   },
   "outputs": [],
   "source": [
    "random_seed = 142857\n",
    "rng = np.random.RandomState(random_seed)\n",
    "train_data = CIFAR10DataProvider('train', batch_size=50, rng=rng)\n",
    "valid_data = CIFAR10DataProvider('valid', batch_size=50, rng=rng)"
   ]
  },
  {
   "cell_type": "code",
   "execution_count": 10,
   "metadata": {
    "collapsed": true
   },
   "outputs": [],
   "source": [
    "def data_augmentation(image, theight, twidth, whitten_image = True):\n",
    "    # augmentation by croping the images target_height = 36, target_width = 36\n",
    "    padding_image = tf.map_fn(lambda img: tf.image.resize_image_with_crop_or_pad(img, 36, 36), image)\n",
    "    \n",
    "    flip_image = tf.map_fn(lambda img: tf.image.random_flip_left_right(img), padding_image)\n",
    "    if whitten_image:\n",
    "        new_image = tf.map_fn(lambda img: tf.image.resize_image_with_crop_or_pad(img,twidth,theight),flip_image)\n",
    "        # whitten_image = tf.map_fn(lambda img: tf.image.per_image_standardization(img), new_image)\n",
    "        return new_image\n",
    "    else:\n",
    "        rndx = np.random.randint(4)\n",
    "        rndy = np.random.randint(4)\n",
    "        new_image = tf.map_fn(lambda img: tf.image.crop_to_bounding_box(img,rndx,rndy,twidth,theight),flip_image)\n",
    "        # new_image = tf.image.resize_image_with_crop_or_pad(flip_image, theight, twidth) \n",
    "        return new_image\n",
    "    # flip_image = tf.image.random_flip_left_right(image)"
   ]
  },
  {
   "cell_type": "code",
   "execution_count": 4,
   "metadata": {
    "collapsed": false
   },
   "outputs": [
    {
     "name": "stdout",
     "output_type": "stream",
     "text": [
      "1\n"
     ]
    },
    {
     "data": {
      "image/png": "[encoded data removed]",
      "text/plain": [
       "<matplotlib.figure.Figure at 0x7efc25f015d0>"
      ]
     },
     "metadata": {},
     "output_type": "display_data"
    }
   ],
   "source": [
    "#print train_data.inputs[0]\n",
    "\n",
    "fig = plt.figure(figsize=(5,5))\n",
    "\n",
    "# im = np.empty((32,32,3))\n",
    "\n",
    "# for i in range(123,223):\n",
    "im = train_data.inputs[7].reshape((3,32,32)).T\n",
    "print train_data.targets[7]\n",
    "# print im\n",
    "im = im.astype(np.float32)\n",
    "#im = ndimage.rotate(im,270,reshape=False)\n",
    "    # print im.shape\n",
    "ax = fig.add_subplot(1,1,1)\n",
    "ax.imshow(im)\n",
    "#ax.axis('off')\n",
    "fig.tight_layout()\n",
    "plt.show()\n",
    "\n",
    "fig.savefig('Tresult.png',dpi=200)"
   ]
  },
  {
   "cell_type": "code",
   "execution_count": 16,
   "metadata": {
    "collapsed": false
   },
   "outputs": [
    {
     "name": "stdout",
     "output_type": "stream",
     "text": [
      "WARNING:tensorflow:From <ipython-input-16-fee387301297>:5 in <module>.: initialize_all_variables (from tensorflow.python.ops.variables) is deprecated and will be removed after 2017-03-02.\n",
      "Instructions for updating:\n",
      "Use `tf.global_variables_initializer` instead.\n"
     ]
    },
    {
     "data": {
      "image/png": "[encoded data removed]",
      "text/plain": [
       "<matplotlib.figure.Figure at 0x7efbee8593d0>"
      ]
     },
     "metadata": {},
     "output_type": "display_data"
    }
   ],
   "source": [
    "fig = plt.figure(figsize=(10,10))\n",
    "\n",
    "# im = np.empty((32,32,3))\n",
    "sess = tf.Session()\n",
    "init = tf.initialize_all_variables()\n",
    "sess.run(init)\n",
    "\n",
    "# for i in range(222,223):\n",
    "#for x in range(5):\n",
    "#    for y in range(5):\n",
    "im = train_data.inputs[654].reshape((3,32,32)).T\n",
    "# print im\n",
    "im = im.astype(np.float32)\n",
    "        # im = ndimage.rotate(im,269.5)\n",
    "im = im.reshape((-1,32,32,3))\n",
    "        # print im.shape\n",
    "im = data_augmentation(im, 32, 32,whitten_image=True)\n",
    "im = tf.reshape(im,(32,32,3))\n",
    "im = sess.run(im)\n",
    "ax = fig.add_subplot(1,1,1)\n",
    "ax.imshow(im)\n",
    "ax.axis('off')\n",
    "fig.tight_layout()\n",
    "plt.show()\n",
    "\n",
    "fig.savefig('rotated4.png',dpi=200)"
   ]
  },
  {
   "cell_type": "code",
   "execution_count": 99,
   "metadata": {
    "collapsed": true
   },
   "outputs": [],
   "source": [
    "def data_augmentation_rotate(image, theight, twidth, whitten_image = True):\n",
    "    # augmentation by croping the images target_height = 36, target_width = 36\n",
    "    #padding_image = tf.map_fn(lambda img:  tf.image.resize_image_with_crop_or_pad(img, 36, 36), image)\n",
    "    # flip_image = tf.map_fn(lambda img: tf.image.random_flip_left_right(img), padding_image)\n",
    "    rnk = np.random.randint(4)\n",
    "    rotated_image = tf.map_fn(lambda img: tf.image.rot90(img,k=rnk), image)\n",
    "    tf.map_fn(lambda img: tf.transpose(img),image)\n",
    "    return rotated_image\n",
    "    # print rotated_image\n",
    "    # rotated_image = tf.map_fn(lambda img: ndimage.rotate(img,269.5,reshape=False), rotated_image)\n",
    "    \n",
    "    if whitten_image:\n",
    "        whitten_image = tf.map_fn(lambda img: tf.image.per_image_standardization(img), flip_image)\n",
    "        return whitten_image\n",
    "    else:\n",
    "        rndx = np.random.randint(3)\n",
    "        rndy = np.random.randint(3)\n",
    "        new_image = tf.map_fn(lambda img: tf.image.crop_to_bounding_box(img,rndx,rndy,twidth,theight),rotated_image)\n",
    "        # new_image = tf.image.resize_image_with_crop_or_pad(flip_image, theight, twidth) \n",
    "        return new_image\n",
    "    # flip_image = tf.image.random_flip_left_right(image)"
   ]
  },
  {
   "cell_type": "code",
   "execution_count": 121,
   "metadata": {
    "collapsed": false
   },
   "outputs": [],
   "source": [
    "def data_augmentation(image, theight, twidth,cropx,cropy ,whitten_image = True):\n",
    "    # augmentation by croping the images target_height = 36, target_width = 36\n",
    "    padding_image = tf.map_fn(lambda img:  tf.image.resize_image_with_crop_or_pad(img, 36, 36), image)\n",
    "    flip_image = tf.map_fn(lambda img: tf.image.random_flip_left_right(img), padding_image)\n",
    "    if whitten_image:\n",
    "        whitten_image = tf.map_fn(lambda img: tf.image.per_image_standardization(img), flip_image)\n",
    "        return whitten_image\n",
    "    else:\n",
    "        rndx = np.random.randint(4)\n",
    "        rndy = np.random.randint(4)\n",
    "        new_image = tf.map_fn(lambda img: tf.image.crop_to_bounding_box(img,cropx,cropy,twidth,theight),flip_image)\n",
    "        # new_image = tf.image.resize_image_with_crop_or_pad(flip_image, theight, twidth) \n",
    "        return new_image\n",
    "    # flip_image = tf.image.random_flip_left_right(image)"
   ]
  },
  {
   "cell_type": "code",
   "execution_count": 23,
   "metadata": {
    "collapsed": false
   },
   "outputs": [],
   "source": [
    "tf.reset_default_graph()\n",
    "\n",
    "inputs = tf.placeholder(tf.float32, [None, train_data.inputs.shape[1]], 'inputs')\n",
    "targets = tf.placeholder(tf.float32, [None, train_data.num_classes], 'targets')\n",
    "num_hidden = 200\n",
    "beta_l1 = 0.001\n",
    "beta_l2 = 0.001\n",
    "\n",
    "\n",
    "with tf.name_scope('fc-layer-1'):\n",
    "    hidden_1, weights_1 = fully_connected_layer(inputs, train_data.inputs.shape[1], num_hidden)\n",
    "with tf.name_scope('fc-layer-2'):\n",
    "    hidden_2,weights_2 = fully_connected_layer(hidden_1, num_hidden, num_hidden)\n",
    "with tf.name_scope('fc-layer-3'):\n",
    "    hidden_3, weights_3 = fully_connected_layer(hidden_2, num_hidden, num_hidden)\n",
    "with tf.name_scope('output-layer'):\n",
    "    outputs, weights_4 = fully_connected_layer(hidden_3, num_hidden, train_data.num_classes, tf.identity)\n",
    "    \n",
    "with tf.name_scope('L2-regularisation'):\n",
    "    L2_regu = tf.nn.l2_loss(weights_1) + tf.nn.l2_loss(weights_2) + tf.nn.l2_loss(weights_3) + tf.nn.l2_loss(weights_4)\n",
    "\n",
    "with tf.name_scope('L1-regularisation'):\n",
    "    L1_regu = (tf.reduce_sum(tf.abs(weights_1))+tf.reduce_sum(tf.abs(weights_2))+\n",
    "                tf.reduce_sum(tf.abs(weights_3))+tf.reduce_sum(tf.abs(weights_4)))\n",
    "\n",
    "with tf.name_scope('error'):\n",
    "    error = tf.reduce_mean(tf.nn.softmax_cross_entropy_with_logits(outputs, targets)) + beta_l2 * L2_regu + beta_l1 * L1_regu\n",
    "    \n",
    "with tf.name_scope('accuracy'):\n",
    "    accuracy = tf.reduce_mean(tf.cast(\n",
    "            tf.equal(tf.argmax(outputs, 1), tf.argmax(targets, 1)), \n",
    "            tf.float32))\n",
    "with tf.name_scope('train'):\n",
    "    train_step = tf.train.AdamOptimizer(learning_rate = 0.0001,epsilon=0.001).minimize(error)\n",
    "    \n",
    "init = tf.global_variables_initializer()"
   ]
  },
  {
   "cell_type": "code",
   "execution_count": 15,
   "metadata": {
    "collapsed": false,
    "scrolled": true
   },
   "outputs": [
    {
     "name": "stdout",
     "output_type": "stream",
     "text": [
      "End of epoch 01: err(train)=2.51 acc(train)=0.32 time(train)=8.12\n",
      "End of epoch 02: err(train)=2.29 acc(train)=0.39 time(train)=7.16\n",
      "End of epoch 03: err(train)=2.19 acc(train)=0.42 time(train)=7.05\n",
      "End of epoch 04: err(train)=2.10 acc(train)=0.44 time(train)=7.10\n",
      "End of epoch 05: err(train)=2.04 acc(train)=0.46 time(train)=6.98\n",
      "                 err(valid)=2.06 acc(valid)=0.44\n",
      "End of epoch 06: err(train)=1.98 acc(train)=0.47 time(train)=7.24\n",
      "End of epoch 07: err(train)=1.93 acc(train)=0.48 time(train)=7.32\n",
      "End of epoch 08: err(train)=1.89 acc(train)=0.49 time(train)=7.27\n",
      "End of epoch 09: err(train)=1.85 acc(train)=0.50 time(train)=7.10\n",
      "End of epoch 10: err(train)=1.81 acc(train)=0.51 time(train)=7.03\n",
      "                 err(valid)=1.93 acc(valid)=0.47\n",
      "End of epoch 11: err(train)=1.78 acc(train)=0.52 time(train)=7.32\n",
      "End of epoch 12: err(train)=1.75 acc(train)=0.52 time(train)=7.43\n",
      "End of epoch 13: err(train)=1.73 acc(train)=0.53 time(train)=6.94\n",
      "End of epoch 14: err(train)=1.70 acc(train)=0.54 time(train)=7.21\n",
      "End of epoch 15: err(train)=1.68 acc(train)=0.54 time(train)=6.94\n",
      "                 err(valid)=1.81 acc(valid)=0.50\n",
      "End of epoch 16: err(train)=1.65 acc(train)=0.55 time(train)=7.07\n",
      "End of epoch 17: err(train)=1.64 acc(train)=0.55 time(train)=7.19\n",
      "End of epoch 18: err(train)=1.62 acc(train)=0.56 time(train)=7.05\n",
      "End of epoch 19: err(train)=1.59 acc(train)=0.56 time(train)=6.95\n",
      "End of epoch 20: err(train)=1.57 acc(train)=0.57 time(train)=7.06\n",
      "                 err(valid)=1.75 acc(valid)=0.51\n",
      "End of epoch 21: err(train)=1.56 acc(train)=0.57 time(train)=6.97\n",
      "End of epoch 22: err(train)=1.54 acc(train)=0.58 time(train)=6.93\n",
      "End of epoch 23: err(train)=1.53 acc(train)=0.58 time(train)=7.11\n",
      "End of epoch 24: err(train)=1.51 acc(train)=0.59 time(train)=7.75\n",
      "End of epoch 25: err(train)=1.49 acc(train)=0.60 time(train)=7.38\n",
      "                 err(valid)=1.70 acc(valid)=0.52\n",
      "End of epoch 26: err(train)=1.48 acc(train)=0.60 time(train)=7.05\n",
      "End of epoch 27: err(train)=1.47 acc(train)=0.60 time(train)=6.94\n",
      "End of epoch 28: err(train)=1.45 acc(train)=0.60 time(train)=6.98\n",
      "End of epoch 29: err(train)=1.44 acc(train)=0.61 time(train)=6.92\n",
      "End of epoch 30: err(train)=1.43 acc(train)=0.61 time(train)=7.07\n",
      "                 err(valid)=1.68 acc(valid)=0.53\n",
      "End of epoch 31: err(train)=1.42 acc(train)=0.62 time(train)=7.01\n",
      "End of epoch 32: err(train)=1.40 acc(train)=0.62 time(train)=7.12\n",
      "End of epoch 33: err(train)=1.39 acc(train)=0.62 time(train)=7.31\n",
      "End of epoch 34: err(train)=1.38 acc(train)=0.63 time(train)=7.32\n",
      "End of epoch 35: err(train)=1.37 acc(train)=0.63 time(train)=7.06\n",
      "                 err(valid)=1.70 acc(valid)=0.53\n",
      "End of epoch 36: err(train)=1.35 acc(train)=0.64 time(train)=6.90\n",
      "End of epoch 37: err(train)=1.35 acc(train)=0.64 time(train)=6.96\n",
      "End of epoch 38: err(train)=1.33 acc(train)=0.64 time(train)=7.01\n",
      "End of epoch 39: err(train)=1.33 acc(train)=0.64 time(train)=6.96\n",
      "End of epoch 40: err(train)=1.31 acc(train)=0.65 time(train)=6.94\n",
      "                 err(valid)=1.67 acc(valid)=0.53\n",
      "End of epoch 41: err(train)=1.30 acc(train)=0.65 time(train)=7.01\n",
      "End of epoch 42: err(train)=1.30 acc(train)=0.65 time(train)=7.00\n",
      "End of epoch 43: err(train)=1.28 acc(train)=0.66 time(train)=6.94\n",
      "End of epoch 44: err(train)=1.27 acc(train)=0.66 time(train)=6.97\n",
      "End of epoch 45: err(train)=1.27 acc(train)=0.66 time(train)=6.99\n",
      "                 err(valid)=1.69 acc(valid)=0.53\n",
      "End of epoch 46: err(train)=1.26 acc(train)=0.67 time(train)=6.92\n",
      "End of epoch 47: err(train)=1.25 acc(train)=0.67 time(train)=6.90\n",
      "End of epoch 48: err(train)=1.24 acc(train)=0.68 time(train)=6.96\n",
      "End of epoch 49: err(train)=1.23 acc(train)=0.68 time(train)=6.92\n",
      "End of epoch 50: err(train)=1.22 acc(train)=0.68 time(train)=7.09\n",
      "                 err(valid)=1.72 acc(valid)=0.53\n"
     ]
    }
   ],
   "source": [
    "train_log = {'epoch_num':[],\n",
    "             'running_error':[],\n",
    "             'running_accuracy':[],\n",
    "             'running_time':[]\n",
    "            }\n",
    "valid_log = {'epoch_num':[],\n",
    "             'running_error':[],\n",
    "             'running_accuracy':[],\n",
    "            }\n",
    "train_data.reset()\n",
    "valid_data.reset()\n",
    "\n",
    "with tf.Session() as sess:\n",
    "    sess.run(init)\n",
    "    for e in range(50):\n",
    "        running_error = 0.\n",
    "        running_accuracy = 0.\n",
    "        start_time = time.time()\n",
    "        for input_batch, target_batch in train_data:\n",
    "            _, batch_error, batch_acc = sess.run(\n",
    "                [train_step, error, accuracy], \n",
    "                feed_dict={inputs: input_batch, targets: target_batch})\n",
    "            running_error += batch_error\n",
    "            running_accuracy += batch_acc\n",
    "        epoch_time = time.time() - start_time\n",
    "        running_error /= train_data.num_batches\n",
    "        running_accuracy /= train_data.num_batches\n",
    "        train_log['epoch_num'].append(e+1)\n",
    "        train_log['running_error'].append(running_error)\n",
    "        train_log['running_accuracy'].append(running_accuracy)\n",
    "        train_log['running_time'].append(epoch_time)\n",
    "        print('End of epoch {0:02d}: err(train)={1:.2f} acc(train)={2:.2f} time(train)={3:.2f}'\n",
    "              .format(e + 1, running_error, running_accuracy, epoch_time))\n",
    "        if (e + 1) % 5 == 0:\n",
    "            valid_error = 0.\n",
    "            valid_accuracy = 0.\n",
    "            for input_batch, target_batch in valid_data:\n",
    "                batch_error, batch_acc = sess.run(\n",
    "                    [error, accuracy], \n",
    "                    feed_dict={inputs: input_batch, targets: target_batch})\n",
    "                valid_error += batch_error\n",
    "                valid_accuracy += batch_acc\n",
    "            valid_error /= valid_data.num_batches\n",
    "            valid_accuracy /= valid_data.num_batches\n",
    "            valid_log['epoch_num'].append(e+1)\n",
    "            valid_log['running_error'].append(valid_error)\n",
    "            valid_log['running_accuracy'].append(valid_accuracy)\n",
    "            print('                 err(valid)={0:.2f} acc(valid)={1:.2f}'\n",
    "                   .format(valid_error, valid_accuracy))"
   ]
  },
  {
   "cell_type": "code",
   "execution_count": 34,
   "metadata": {
    "collapsed": false
   },
   "outputs": [
    {
     "data": {
      "image/png": "[encoded data removed]",
      "text/plain": [
       "<matplotlib.figure.Figure at 0x7fc193b09710>"
      ]
     },
     "metadata": {},
     "output_type": "display_data"
    }
   ],
   "source": [
    "import matplotlib.pyplot as plt\n",
    "%matplotlib inline\n",
    "plt.style.use('seaborn-white')\n",
    "\n",
    "#print train_log\n",
    "\n",
    "fig = plt.figure(figsize=(8, 8))\n",
    "ax1 = fig.add_subplot(2, 1, 1)\n",
    "ax2 = fig.add_subplot(2, 1, 2)\n",
    "ax1.plot(train_log['epoch_num'],train_log['running_accuracy'],label='train_acc')\n",
    "ax1.plot(valid_log['epoch_num'],valid_log['running_accuracy'],label='valid_acc')\n",
    "ax2.plot(train_log['epoch_num'],train_log['running_error'],label='train_err')\n",
    "ax2.plot(valid_log['epoch_num'],valid_log['running_error'],label='valid_err')\n",
    "\n",
    "ax1.legend(loc=0)\n",
    "ax1.set_xlabel('Epoch number')\n",
    "ax1.set_ylabel('Accuracy')\n",
    "ax2.legend(loc=0)\n",
    "ax2.set_xlabel('Epoch number')\n",
    "ax2.set_ylabel('Error')\n",
    "\n",
    "plt.show()"
   ]
  },
  {
   "cell_type": "markdown",
   "metadata": {},
   "source": [
    "### Dropout"
   ]
  },
  {
   "cell_type": "code",
   "execution_count": 24,
   "metadata": {
    "collapsed": true
   },
   "outputs": [],
   "source": [
    "def fully_connected_layer(inputs, input_dim, output_dim, keep_prob,nonlinearity=tf.nn.relu):\n",
    "    weights = tf.Variable(\n",
    "        tf.truncated_normal(\n",
    "            [input_dim, output_dim], stddev=2. / (input_dim + output_dim)**0.5), \n",
    "        'weights')\n",
    "    biases = tf.Variable(tf.zeros([output_dim]), 'biases')\n",
    "    outputs = tf.nn.dropout(nonlinearity(tf.matmul(inputs, weights) + biases),keep_prob)\n",
    "    return outputs, weights"
   ]
  },
  {
   "cell_type": "code",
   "execution_count": 34,
   "metadata": {
    "collapsed": true
   },
   "outputs": [],
   "source": [
    "tf.reset_default_graph()\n",
    "\n",
    "inputs = tf.placeholder(tf.float32, [None, train_data.inputs.shape[1]], 'inputs')\n",
    "targets = tf.placeholder(tf.float32, [None, train_data.num_classes], 'targets')\n",
    "num_hidden = 200\n",
    "beta_l1 = 0.001\n",
    "beta_l2 = 0.0001\n",
    "\n",
    "keep_prob = tf.placeholder(tf.float32)\n",
    "\n",
    "with tf.name_scope('fc-layer-1'):\n",
    "    hidden_1, weights_1 = fully_connected_layer(inputs, train_data.inputs.shape[1], num_hidden,keep_prob)\n",
    "with tf.name_scope('fc-layer-2'):\n",
    "    hidden_2,weights_2 = fully_connected_layer(hidden_1, num_hidden, num_hidden,keep_prob)\n",
    "with tf.name_scope('fc-layer-3'):\n",
    "    hidden_3, weights_3 = fully_connected_layer(hidden_2, num_hidden, num_hidden,keep_prob)\n",
    "with tf.name_scope('output-layer'):\n",
    "    outputs, weights_4 = fully_connected_layer(hidden_3, num_hidden, train_data.num_classes, keep_prob, tf.identity)\n",
    "    \n",
    "with tf.name_scope('L2-regularisation'):\n",
    "    L2_regu = tf.nn.l2_loss(weights_1) + tf.nn.l2_loss(weights_2) + tf.nn.l2_loss(weights_3) + tf.nn.l2_loss(weights_4)\n",
    "\n",
    "with tf.name_scope('L1-regularisation'):\n",
    "    L1_regu = (tf.reduce_sum(tf.abs(weights_1))+tf.reduce_sum(tf.abs(weights_2))+\n",
    "                tf.reduce_sum(tf.abs(weights_3))+tf.reduce_sum(tf.abs(weights_4)))\n",
    "\n",
    "with tf.name_scope('error'):\n",
    "    error = tf.reduce_mean(tf.nn.softmax_cross_entropy_with_logits(outputs, targets)) + beta_l1*L1_regu + beta_l2*L2_regu\n",
    "    \n",
    "with tf.name_scope('accuracy'):\n",
    "    accuracy = tf.reduce_mean(tf.cast(\n",
    "            tf.equal(tf.argmax(outputs, 1), tf.argmax(targets, 1)), \n",
    "            tf.float32))\n",
    "with tf.name_scope('train'):\n",
    "    train_step = tf.train.AdamOptimizer(learning_rate = 0.0001,epsilon=0.001).minimize(error)\n",
    "    \n",
    "init = tf.global_variables_initializer()"
   ]
  },
  {
   "cell_type": "code",
   "execution_count": 35,
   "metadata": {
    "collapsed": false
   },
   "outputs": [
    {
     "name": "stdout",
     "output_type": "stream",
     "text": [
      "End of epoch 01: err(train)=19.77 acc(train)=0.21 time(train)=12.24\n",
      "End of epoch 02: err(train)=11.85 acc(train)=0.27 time(train)=12.17\n",
      "End of epoch 03: err(train)=7.40 acc(train)=0.29 time(train)=12.11\n",
      "End of epoch 04: err(train)=5.22 acc(train)=0.29 time(train)=12.23\n",
      "End of epoch 05: err(train)=4.03 acc(train)=0.29 time(train)=12.31\n",
      "                 err(valid)=3.53 acc(valid)=0.35\n",
      "End of epoch 06: err(train)=3.35 acc(train)=0.29 time(train)=12.18\n",
      "End of epoch 07: err(train)=2.96 acc(train)=0.28 time(train)=12.17\n",
      "End of epoch 08: err(train)=2.74 acc(train)=0.28 time(train)=12.21\n",
      "End of epoch 09: err(train)=2.59 acc(train)=0.27 time(train)=12.15\n",
      "End of epoch 10: err(train)=2.51 acc(train)=0.27 time(train)=12.29\n",
      "                 err(valid)=2.40 acc(valid)=0.32\n",
      "End of epoch 11: err(train)=2.44 acc(train)=0.26 time(train)=12.17\n",
      "End of epoch 12: err(train)=2.40 acc(train)=0.26 time(train)=12.16\n",
      "End of epoch 13: err(train)=2.36 acc(train)=0.26 time(train)=12.19\n",
      "End of epoch 14: err(train)=2.34 acc(train)=0.26 time(train)=12.17\n",
      "End of epoch 15: err(train)=2.31 acc(train)=0.26 time(train)=12.29\n",
      "                 err(valid)=2.23 acc(valid)=0.32\n",
      "End of epoch 16: err(train)=2.30 acc(train)=0.26 time(train)=12.20\n",
      "End of epoch 17: err(train)=2.29 acc(train)=0.27 time(train)=12.91\n",
      "End of epoch 18: err(train)=2.28 acc(train)=0.27 time(train)=12.44\n",
      "End of epoch 19: err(train)=2.27 acc(train)=0.27 time(train)=12.18\n",
      "End of epoch 20: err(train)=2.26 acc(train)=0.27 time(train)=12.12\n",
      "                 err(valid)=2.18 acc(valid)=0.32\n",
      "End of epoch 21: err(train)=2.25 acc(train)=0.27 time(train)=12.17\n",
      "End of epoch 22: err(train)=2.25 acc(train)=0.27 time(train)=12.39\n",
      "End of epoch 23: err(train)=2.24 acc(train)=0.27 time(train)=12.21\n",
      "End of epoch 24: err(train)=2.23 acc(train)=0.27 time(train)=12.18\n",
      "End of epoch 25: err(train)=2.23 acc(train)=0.27 time(train)=12.18\n",
      "                 err(valid)=2.15 acc(valid)=0.31\n",
      "End of epoch 26: err(train)=2.22 acc(train)=0.27 time(train)=12.29\n",
      "End of epoch 27: err(train)=2.22 acc(train)=0.27 time(train)=12.19\n",
      "End of epoch 28: err(train)=2.22 acc(train)=0.27 time(train)=12.24\n",
      "End of epoch 29: err(train)=2.22 acc(train)=0.27 time(train)=12.45\n",
      "End of epoch 30: err(train)=2.21 acc(train)=0.27 time(train)=13.90\n",
      "                 err(valid)=2.12 acc(valid)=0.33\n",
      "End of epoch 31: err(train)=2.21 acc(train)=0.27 time(train)=12.16\n",
      "End of epoch 32: err(train)=2.21 acc(train)=0.27 time(train)=12.14\n",
      "End of epoch 33: err(train)=2.21 acc(train)=0.27 time(train)=12.20\n",
      "End of epoch 34: err(train)=2.20 acc(train)=0.28 time(train)=12.22\n",
      "End of epoch 35: err(train)=2.20 acc(train)=0.28 time(train)=12.16\n",
      "                 err(valid)=2.10 acc(valid)=0.33\n",
      "End of epoch 36: err(train)=2.20 acc(train)=0.27 time(train)=12.16\n",
      "End of epoch 37: err(train)=2.20 acc(train)=0.28 time(train)=12.17\n",
      "End of epoch 38: err(train)=2.20 acc(train)=0.27 time(train)=12.19\n",
      "End of epoch 39: err(train)=2.19 acc(train)=0.28 time(train)=12.23\n",
      "End of epoch 40: err(train)=2.19 acc(train)=0.28 time(train)=12.22\n",
      "                 err(valid)=2.15 acc(valid)=0.32\n",
      "End of epoch 41: err(train)=2.19 acc(train)=0.27 time(train)=12.16\n",
      "End of epoch 42: err(train)=2.19 acc(train)=0.28 time(train)=13.95\n",
      "End of epoch 43: err(train)=2.19 acc(train)=0.28 time(train)=12.33\n",
      "End of epoch 44: err(train)=2.19 acc(train)=0.28 time(train)=12.23\n",
      "End of epoch 45: err(train)=2.19 acc(train)=0.28 time(train)=12.29\n",
      "                 err(valid)=2.08 acc(valid)=0.34\n",
      "End of epoch 46: err(train)=2.18 acc(train)=0.28 time(train)=12.36\n",
      "End of epoch 47: err(train)=2.19 acc(train)=0.28 time(train)=12.48\n",
      "End of epoch 48: err(train)=2.18 acc(train)=0.28 time(train)=12.36\n",
      "End of epoch 49: err(train)=2.18 acc(train)=0.28 time(train)=12.20\n",
      "End of epoch 50: err(train)=2.17 acc(train)=0.28 time(train)=12.24\n",
      "                 err(valid)=2.08 acc(valid)=0.33\n"
     ]
    }
   ],
   "source": [
    "train_log = {'epoch_num':[],\n",
    "             'running_error':[],\n",
    "             'running_accuracy':[],\n",
    "             'running_time':[]\n",
    "            }\n",
    "valid_log = {'epoch_num':[],\n",
    "             'running_error':[],\n",
    "             'running_accuracy':[],\n",
    "            }\n",
    "train_data.reset()\n",
    "valid_data.reset()\n",
    "\n",
    "with tf.Session() as sess:\n",
    "    sess.run(init)\n",
    "    for e in range(50):\n",
    "        running_error = 0.\n",
    "        running_accuracy = 0.\n",
    "        start_time = time.time()\n",
    "        for input_batch, target_batch in train_data:\n",
    "            _, batch_error, batch_acc = sess.run(\n",
    "                [train_step, error, accuracy], \n",
    "                feed_dict={inputs: input_batch, targets: target_batch, keep_prob:0.8})\n",
    "            running_error += batch_error\n",
    "            running_accuracy += batch_acc\n",
    "        epoch_time = time.time() - start_time\n",
    "        running_error /= train_data.num_batches\n",
    "        running_accuracy /= train_data.num_batches\n",
    "        train_log['epoch_num'].append(e+1)\n",
    "        train_log['running_error'].append(running_error)\n",
    "        train_log['running_accuracy'].append(running_accuracy)\n",
    "        train_log['running_time'].append(epoch_time)\n",
    "        print('End of epoch {0:02d}: err(train)={1:.2f} acc(train)={2:.2f} time(train)={3:.2f}'\n",
    "              .format(e + 1, running_error, running_accuracy, epoch_time))\n",
    "        if (e + 1) % 5 == 0:\n",
    "            valid_error = 0.\n",
    "            valid_accuracy = 0.\n",
    "            for input_batch, target_batch in valid_data:\n",
    "                batch_error, batch_acc = sess.run(\n",
    "                    [error, accuracy], \n",
    "                    feed_dict={inputs: input_batch, targets: target_batch, keep_prob:1.0})\n",
    "                valid_error += batch_error\n",
    "                valid_accuracy += batch_acc\n",
    "            valid_error /= valid_data.num_batches\n",
    "            valid_accuracy /= valid_data.num_batches\n",
    "            valid_log['epoch_num'].append(e+1)\n",
    "            valid_log['running_error'].append(valid_error)\n",
    "            valid_log['running_accuracy'].append(valid_accuracy)\n",
    "            print('                 err(valid)={0:.2f} acc(valid)={1:.2f}'\n",
    "                   .format(valid_error, valid_accuracy))"
   ]
  },
  {
   "cell_type": "markdown",
   "metadata": {},
   "source": [
    "### CIFAR-100"
   ]
  },
  {
   "cell_type": "code",
   "execution_count": 6,
   "metadata": {
    "collapsed": true
   },
   "outputs": [],
   "source": [
    "train_data = CIFAR100DataProvider('train', batch_size=50)\n",
    "valid_data = CIFAR100DataProvider('valid', batch_size=50)"
   ]
  },
  {
   "cell_type": "code",
   "execution_count": 7,
   "metadata": {
    "collapsed": true
   },
   "outputs": [],
   "source": [
    "tf.reset_default_graph()\n",
    "\n",
    "inputs = tf.placeholder(tf.float32, [None, train_data.inputs.shape[1]], 'inputs')\n",
    "targets = tf.placeholder(tf.float32, [None, train_data.num_classes], 'targets')\n",
    "num_hidden = 200\n",
    "\n",
    "with tf.name_scope('fc-layer-1'):\n",
    "    hidden_1 = fully_connected_layer(inputs, train_data.inputs.shape[1], num_hidden)\n",
    "with tf.name_scope('output-layer'):\n",
    "    outputs = fully_connected_layer(hidden_1, num_hidden, train_data.num_classes, tf.identity)\n",
    "\n",
    "with tf.name_scope('error'):\n",
    "    error = tf.reduce_mean(\n",
    "        tf.nn.softmax_cross_entropy_with_logits(outputs, targets))\n",
    "with tf.name_scope('accuracy'):\n",
    "    accuracy = tf.reduce_mean(tf.cast(\n",
    "            tf.equal(tf.argmax(outputs, 1), tf.argmax(targets, 1)), \n",
    "            tf.float32))\n",
    "\n",
    "with tf.name_scope('train'):\n",
    "    train_step = tf.train.AdamOptimizer().minimize(error)\n",
    "    \n",
    "init = tf.global_variables_initializer()"
   ]
  },
  {
   "cell_type": "code",
   "execution_count": 8,
   "metadata": {
    "collapsed": false
   },
   "outputs": [
    {
     "name": "stdout",
     "output_type": "stream",
     "text": [
      "End of epoch 01: err(train)=4.33 acc(train)=0.04\n",
      "End of epoch 02: err(train)=4.05 acc(train)=0.07\n",
      "End of epoch 03: err(train)=3.94 acc(train)=0.09\n",
      "End of epoch 04: err(train)=3.88 acc(train)=0.10\n",
      "End of epoch 05: err(train)=3.84 acc(train)=0.11\n",
      "                 err(valid)=3.82 acc(valid)=0.11\n",
      "End of epoch 06: err(train)=3.81 acc(train)=0.11\n",
      "End of epoch 07: err(train)=3.80 acc(train)=0.12\n",
      "End of epoch 08: err(train)=3.79 acc(train)=0.12\n",
      "End of epoch 09: err(train)=3.78 acc(train)=0.12\n",
      "End of epoch 10: err(train)=3.76 acc(train)=0.12\n",
      "                 err(valid)=3.80 acc(valid)=0.11\n"
     ]
    }
   ],
   "source": [
    "sess = tf.Session()\n",
    "sess.run(init)\n",
    "for e in range(10):\n",
    "    running_error = 0.\n",
    "    running_accuracy = 0.\n",
    "    for input_batch, target_batch in train_data:\n",
    "        _, batch_error, batch_acc = sess.run(\n",
    "            [train_step, error, accuracy], \n",
    "            feed_dict={inputs: input_batch, targets: target_batch})\n",
    "        running_error += batch_error\n",
    "        running_accuracy += batch_acc\n",
    "    running_error /= train_data.num_batches\n",
    "    running_accuracy /= train_data.num_batches\n",
    "    print('End of epoch {0:02d}: err(train)={1:.2f} acc(train)={2:.2f}'\n",
    "          .format(e + 1, running_error, running_accuracy))\n",
    "    if (e + 1) % 5 == 0:\n",
    "        valid_error = 0.\n",
    "        valid_accuracy = 0.\n",
    "        for input_batch, target_batch in valid_data:\n",
    "            batch_error, batch_acc = sess.run(\n",
    "                [error, accuracy], \n",
    "                feed_dict={inputs: input_batch, targets: target_batch})\n",
    "            valid_error += batch_error\n",
    "            valid_accuracy += batch_acc\n",
    "        valid_error /= valid_data.num_batches\n",
    "        valid_accuracy /= valid_data.num_batches\n",
    "        print('                 err(valid)={0:.2f} acc(valid)={1:.2f}'\n",
    "               .format(valid_error, valid_accuracy))"
   ]
  },
  {
   "cell_type": "markdown",
   "metadata": {},
   "source": [
    "## Predicting test data classes and creating a Kaggle submission file\n",
    "\n",
    "An optional [Kaggle in Class](https://inclass.kaggle.com/c/ml2016-7-cifar-100) competition (see email for invite link, you will need to sign-up with a `ed.ac.uk` email address to be able to enter) is being run on the CIFAR-100 (fine-grained) classification task. The scores for the competition are calculated by calculating the proportion of classes correctly predicted on the test set inputs (for which no class labels are provided). Half of the 10000 test inputs are used to calculate a public leaderboard score which will be visible while the competition is in progress and the other half are used to compute the private leaderboard score which will only be unveiled at the end of the competition. Each entrant can make up to two submissions of predictions each day during the competition.\n",
    "\n",
    "The code and helper function below illustrate how to use the predicted outputs of the TensorFlow network model we just trained to create a submission file which can be uploaded to Kaggle. The required format of the submission file is a `.csv` (Comma Separated Variable) file with two columns: the first is the integer index of the test input in the array in the provided data file (i.e. first row 0, second row 1 and so on) and the second column the corresponding predicted class label as an integer between 0 and 99 inclusive. The predictions must be preceded by a header line as in the following example\n",
    "\n",
    "```\n",
    "Id,Class\n",
    "0,81\n",
    "1,35\n",
    "2,12\n",
    "...\n",
    "```\n",
    "\n",
    "Integer class label predictions can be computed from the class probability outputs of the model by performing an `argmax` operation along the last dimension."
   ]
  },
  {
   "cell_type": "code",
   "execution_count": null,
   "metadata": {
    "collapsed": false
   },
   "outputs": [],
   "source": [
    "test_inputs = np.load(os.path.join(os.environ['MLP_DATA_DIR'], 'cifar-100-test-inputs.npz'))['inputs']\n",
    "test_predictions = sess.run(tf.nn.softmax(outputs), feed_dict={inputs: test_inputs})"
   ]
  },
  {
   "cell_type": "code",
   "execution_count": null,
   "metadata": {
    "collapsed": true
   },
   "outputs": [],
   "source": [
    "def create_kaggle_submission_file(predictions, output_file, overwrite=False):\n",
    "    if predictions.shape != (10000, 100):\n",
    "        raise ValueError('predictions should be an array of shape (10000, 25).')\n",
    "    if not (np.all(predictions >= 0.) and \n",
    "            np.all(predictions <= 1.)):\n",
    "        raise ValueError('predictions should be an array of probabilities in [0, 1].')\n",
    "    if not np.allclose(predictions.sum(-1), 1):\n",
    "        raise ValueError('predictions rows should sum to one.')\n",
    "    if os.path.exists(output_file) and not overwrite:\n",
    "        raise ValueError('File already exists at {0}'.format(output_file))\n",
    "    pred_classes = predictions.argmax(-1)\n",
    "    ids = np.arange(pred_classes.shape[0])\n",
    "    np.savetxt(output_file, np.column_stack([ids, pred_classes]), fmt='%d',\n",
    "               delimiter=',', header='Id,Class', comments='')"
   ]
  },
  {
   "cell_type": "code",
   "execution_count": null,
   "metadata": {
    "collapsed": true
   },
   "outputs": [],
   "source": [
    "create_kaggle_submission_file(test_predictions, 'cifar-100-example-network-submission.csv', True)"
   ]
  }
 ],
 "metadata": {
  "anaconda-cloud": {},
  "kernelspec": {
   "display_name": "Python 2",
   "language": "python",
   "name": "python2"
  },
  "language_info": {
   "codemirror_mode": {
    "name": "ipython",
    "version": 2
   },
   "file_extension": ".py",
   "mimetype": "text/x-python",
   "name": "python",
   "nbconvert_exporter": "python",
   "pygments_lexer": "ipython2",
   "version": "2.7.13"
  }
 },
 "nbformat": 4,
 "nbformat_minor": 1
}
