{
 "cells": [
  {
   "cell_type": "markdown",
   "metadata": {
    "collapsed": true
   },
   "source": [
    "## Experiments on CIFAR-100"
   ]
  },
  {
   "cell_type": "code",
   "execution_count": 1,
   "metadata": {
    "collapsed": false,
    "scrolled": true
   },
   "outputs": [],
   "source": [
    "import os\n",
    "import tensorflow as tf\n",
    "import numpy as np\n",
    "from mlp.data_providers import CIFAR10DataProvider, CIFAR100DataProvider\n",
    "import matplotlib.pyplot as plt\n",
    "import time"
   ]
  },
  {
   "cell_type": "markdown",
   "metadata": {},
   "source": [
    "### CIFAR-100"
   ]
  },
  {
   "cell_type": "code",
   "execution_count": 2,
   "metadata": {
    "collapsed": false,
    "scrolled": true
   },
   "outputs": [],
   "source": [
    "random_seed = 142857\n",
    "rng = np.random.RandomState(random_seed)\n",
    "train_data = CIFAR10DataProvider('train', batch_size=50,rng=rng)\n",
    "valid_data = CIFAR10DataProvider('valid', batch_size=50,rng=rng)"
   ]
  },
  {
   "cell_type": "markdown",
   "metadata": {},
   "source": [
    "### EXPERIMENT 1 - CNN"
   ]
  },
  {
   "cell_type": "code",
   "execution_count": 3,
   "metadata": {
    "collapsed": true
   },
   "outputs": [],
   "source": [
    "def data_augmentation(image, theight, twidth, whitten_image = True,phrase_train=True):\n",
    "    # augmentation by croping the images target_height = 36, target_width = 36\n",
    "    reshape_image = tf.reshape(image,[50,3,32,32])\n",
    "    trans_image = tf.map_fn(lambda img: tf.transpose(img),reshape_image)                              \n",
    "    padding_image = tf.map_fn(lambda img:  tf.image.resize_image_with_crop_or_pad(img, 36, 36), trans_image)\n",
    "    flip_image = tf.map_fn(lambda img: tf.image.random_flip_left_right(img), padding_image)\n",
    "    if not whitten_image:\n",
    "        # whitten_image = tf.map_fn(lambda img: tf.image.per_image_standardization(img), flip_image)\n",
    "        rndx = np.random.randint(4)\n",
    "        rndy = np.random.randint(4)\n",
    "        new_image = tf.map_fn(lambda img: tf.image.crop_to_bounding_box(img,rndx,rndy,twidth,theight),flip_image)\n",
    "        #output_image = tf.map_fn(lambda img: tf.transpose(img),new_image)\n",
    "        # new_image = tf.image.resize_image_with_crop_or_pad(flip_image, theight, twidth)  \n",
    "        # whitten_image = tf.map_fn(lambda img: tf.image.per_image_standardization(img), new_image)\n",
    "        return new_image\n",
    "        # flip_image = tf.image.random_flip_left_right(image)\n",
    "    else:\n",
    "        whitten_image = tf.map_fn(lambda img: tf.image.per_image_standardization(img), image)\n",
    "        return image\n",
    "      "
   ]
  },
  {
   "cell_type": "code",
   "execution_count": 4,
   "metadata": {
    "collapsed": true
   },
   "outputs": [],
   "source": [
    "def kernel(name, shape, stddev, wd=None):\n",
    "    dtype = tf.float32\n",
    "    with tf.device('/cpu:0'):\n",
    "        kernel_weights = tf.get_variable(name,shape,initializer=tf.contrib.layers.xavier_initializer_conv2d())\n",
    "    if wd is not None:\n",
    "        weight_decay = tf.multiply(tf.nn.l2_loss(kernel_weights), wd, name='weight_loss')\n",
    "        kernel_weights = tf.add(kernel_weights,weight_decay)\n",
    "    return kernel_weights\n",
    "    "
   ]
  },
  {
   "cell_type": "code",
   "execution_count": 5,
   "metadata": {
    "collapsed": true
   },
   "outputs": [],
   "source": [
    "def cnn_layer(inputs,kernel,strides,output_channel,nonlinearity=tf.nn.relu,dropout=False,keep_prob=1.0):\n",
    "    conv = tf.nn.conv2d(inputs, kernel, strides, padding='SAME')\n",
    "    biases = tf.Variable(tf.zeros([output_channel]),'biases')\n",
    "    pre_activation = tf.nn.bias_add(conv, biases)\n",
    "    if dropout:\n",
    "        outputs = tf.nn.dropout(nonlinearity(pre_activation), keep_prob)\n",
    "    else:\n",
    "        outputs = nonlinearity(pre_activation)\n",
    "    return outputs"
   ]
  },
  {
   "cell_type": "code",
   "execution_count": 6,
   "metadata": {
    "collapsed": true
   },
   "outputs": [],
   "source": [
    "def BN_layer(inputs, input_dim, phase_train, scope='bn'):\n",
    "    with tf.variable_scope(scope):\n",
    "        beta = tf.Variable(tf.constant(0.0,shape=input_dim),name='beta',trainable=True)\n",
    "        gamma = tf.Variable(tf.constant(1.0,shape=input_dim),name='gamma',trainable=True)\n",
    "        \n",
    "        batch_mean, batch_var = tf.nn.moments(inputs, [0], name='moments')\n",
    "        \n",
    "        ema = tf.train.ExponentialMovingAverage(decay=0.5)\n",
    "        def mean_var_with_update():\n",
    "            ema_apply_op = ema.apply([batch_mean, batch_var])\n",
    "            with tf.control_dependencies([ema_apply_op]):\n",
    "                return tf.identity(batch_mean), tf.identity(batch_var)\n",
    "\n",
    "        mean, var = tf.cond(phase_train,\n",
    "                            mean_var_with_update,\n",
    "                            lambda: (ema.average(batch_mean), ema.average(batch_var)))\n",
    "        normed = tf.nn.batch_normalization(inputs, mean, var, beta, gamma, 1e-3)\n",
    "    return normed"
   ]
  },
  {
   "cell_type": "code",
   "execution_count": 7,
   "metadata": {
    "collapsed": true
   },
   "outputs": [],
   "source": [
    "def fully_connected_layer(inputs, input_dim, output_dim, nonlinearity=tf.nn.relu,dropout=False,keep_prob=1.0, wd=None):\n",
    "    with tf.device('/cpu:0'):\n",
    "        weights = tf.Variable(\n",
    "            tf.truncated_normal(\n",
    "                [input_dim, output_dim], stddev=2. / (input_dim + output_dim)**0.5), \n",
    "            'weights')\n",
    "        biases = tf.Variable(tf.zeros([output_dim]), 'biases')\n",
    "    \n",
    "    if wd is not None:\n",
    "        weight_decay = tf.multiply(tf.nn.l2_loss(weights), wd, name='weight_loss')\n",
    "        weights = tf.add(weights,weight_decay)    \n",
    "    if dropout:\n",
    "        outputs = tf.nn.dropout(nonlinearity(tf.matmul(inputs, weights) + biases), keep_prob)\n",
    "    else:\n",
    "        outputs = nonlinearity(tf.matmul(inputs, weights) + biases)  \n",
    "    \n",
    "    return outputs"
   ]
  },
  {
   "cell_type": "code",
   "execution_count": 8,
   "metadata": {
    "collapsed": false
   },
   "outputs": [],
   "source": [
    "def residual_layer(inputs, previous_inputs,\n",
    "                   kernel,strides,output_channel,nonlinearity=tf.nn.relu,dropout=False,keep_prob=1.0):\n",
    "    conv = tf.nn.conv2d(inputs, kernel, strides, padding='SAME')\n",
    "    biases = tf.Variable(tf.zeros([output_channel]),'biases')\n",
    "    pre_activation = tf.nn.bias_add(conv, biases)\n",
    "    if dropout:\n",
    "        outputs = tf.nn.dropout(nonlinearity(pre_activation)+previous_inputs, keep_prob)\n",
    "    else:\n",
    "        outputs = nonlinearity(pre_activation)+previous_inputs\n",
    "    return outputs\n",
    "    "
   ]
  },
  {
   "cell_type": "code",
   "execution_count": 9,
   "metadata": {
    "collapsed": false
   },
   "outputs": [],
   "source": [
    "def max_pooling_layer(inputs, window_size, strides):\n",
    "    # using max pooling\n",
    "    pooling_output = tf.nn.max_pool(inputs, ksize=window_size, strides=strides, padding='SAME')\n",
    "    return pooling_output"
   ]
  },
  {
   "cell_type": "code",
   "execution_count": 10,
   "metadata": {
    "collapsed": true
   },
   "outputs": [],
   "source": [
    "def avg_pooling_layer(inputs, window_size, strides):\n",
    "    # using global average pooling\n",
    "    pooling_output = tf.nn.avg_pool(inputs, ksize=window_size, strides=strides, padding='VALID')\n",
    "    return pooling_output"
   ]
  },
  {
   "cell_type": "markdown",
   "metadata": {},
   "source": [
    "### exp1"
   ]
  },
  {
   "cell_type": "code",
   "execution_count": 13,
   "metadata": {
    "collapsed": false
   },
   "outputs": [],
   "source": [
    "tf.reset_default_graph()\n",
    "\n",
    "inputs = tf.placeholder(tf.float32, [None,train_data.inputs.shape[1]], 'inputs')\n",
    "targets = tf.placeholder(tf.float32, [None,train_data.num_classes], 'targets')\n",
    "\n",
    "# for setting dropout \n",
    "keep_prob = tf.placeholder(tf.float32)\n",
    "\n",
    "# for setting batch normalization\n",
    "phrase_train = tf.placeholder(tf.bool,name='phase_train')\n",
    "\n",
    "with tf.name_scope('data_augmentation'):  \n",
    "    aug_inputs = data_augmentation(inputs, 32, 32,whitten_image=False, phrase_train=phrase_train)\n",
    "    reshape_inputs = tf.reshape(inputs,[50,-1])\n",
    "    \n",
    "with tf.name_scope('hidden-layer-1'):\n",
    "    hidden_1 = fully_connected_layer(reshape_inputs, 3072, 1024, dropout=True, keep_prob=keep_prob)   \n",
    "with tf.name_scope('hidden-layer-2'):\n",
    "    hidden_2 = fully_connected_layer(hidden_1, 1024, 1024, dropout=True, keep_prob=keep_prob)\n",
    "with tf.name_scope('output-layer'):\n",
    "    outputs = fully_connected_layer(hidden_2, 1024, train_data.num_classes, tf.identity)\n",
    "\n",
    "with tf.name_scope('error'):\n",
    "    error = tf.reduce_mean(\n",
    "        tf.nn.softmax_cross_entropy_with_logits(outputs, targets))\n",
    "with tf.name_scope('accuracy'):\n",
    "    accuracy = tf.reduce_mean(tf.cast(\n",
    "            tf.equal(tf.argmax(outputs, 1), tf.argmax(targets, 1)), \n",
    "            tf.float32))\n",
    "with tf.name_scope('train'):\n",
    "    train_step = tf.train.MomentumOptimizer(learning_rate = 0.001,momentum=0.9).minimize(error)\n",
    "    \n",
    "init = tf.global_variables_initializer()"
   ]
  },
  {
   "cell_type": "code",
   "execution_count": 14,
   "metadata": {
    "collapsed": false
   },
   "outputs": [
    {
     "name": "stdout",
     "output_type": "stream",
     "text": [
      "End of epoch 01: err(train)= 1.94 acc(train)= 0.31 time(train)= 23.03\n",
      "                 err(valid)= 1.77 acc(valid)= 0.37\n",
      "End of epoch 02: err(train)= 1.75 acc(train)= 0.37 time(train)= 22.37\n",
      "                 err(valid)= 1.70 acc(valid)= 0.40\n",
      "End of epoch 03: err(train)= 1.68 acc(train)= 0.40 time(train)= 22.49\n",
      "                 err(valid)= 1.62 acc(valid)= 0.44\n",
      "End of epoch 04: err(train)= 1.63 acc(train)= 0.42 time(train)= 22.49\n",
      "                 err(valid)= 1.58 acc(valid)= 0.45\n",
      "End of epoch 05: err(train)= 1.59 acc(train)= 0.44 time(train)= 22.37\n",
      "                 err(valid)= 1.55 acc(valid)= 0.46\n",
      "End of epoch 06: err(train)= 1.55 acc(train)= 0.45 time(train)= 22.39\n",
      "                 err(valid)= 1.53 acc(valid)= 0.47\n",
      "End of epoch 07: err(train)= 1.52 acc(train)= 0.46 time(train)= 22.37\n",
      "                 err(valid)= 1.52 acc(valid)= 0.46\n",
      "End of epoch 08: err(train)= 1.50 acc(train)= 0.47 time(train)= 22.42\n",
      "                 err(valid)= 1.49 acc(valid)= 0.48\n",
      "End of epoch 09: err(train)= 1.48 acc(train)= 0.48 time(train)= 22.50\n",
      "                 err(valid)= 1.46 acc(valid)= 0.50\n",
      "End of epoch 10: err(train)= 1.45 acc(train)= 0.49 time(train)= 22.38\n",
      "                 err(valid)= 1.46 acc(valid)= 0.49\n",
      "End of epoch 11: err(train)= 1.43 acc(train)= 0.50 time(train)= 22.37\n",
      "                 err(valid)= 1.46 acc(valid)= 0.49\n",
      "End of epoch 12: err(train)= 1.41 acc(train)= 0.50 time(train)= 22.36\n",
      "                 err(valid)= 1.44 acc(valid)= 0.50\n",
      "End of epoch 13: err(train)= 1.40 acc(train)= 0.51 time(train)= 22.37\n",
      "                 err(valid)= 1.42 acc(valid)= 0.50\n",
      "End of epoch 14: err(train)= 1.38 acc(train)= 0.51 time(train)= 22.49\n",
      "                 err(valid)= 1.45 acc(valid)= 0.49\n",
      "End of epoch 15: err(train)= 1.36 acc(train)= 0.52 time(train)= 22.34\n",
      "                 err(valid)= 1.41 acc(valid)= 0.51\n",
      "End of epoch 16: err(train)= 1.34 acc(train)= 0.53 time(train)= 22.35\n",
      "                 err(valid)= 1.41 acc(valid)= 0.51\n",
      "End of epoch 17: err(train)= 1.33 acc(train)= 0.53 time(train)= 22.34\n",
      "                 err(valid)= 1.40 acc(valid)= 0.52\n",
      "End of epoch 18: err(train)= 1.32 acc(train)= 0.54 time(train)= 22.36\n",
      "                 err(valid)= 1.38 acc(valid)= 0.52\n",
      "End of epoch 19: err(train)= 1.30 acc(train)= 0.54 time(train)= 22.45\n",
      "                 err(valid)= 1.37 acc(valid)= 0.52\n",
      "End of epoch 20: err(train)= 1.29 acc(train)= 0.55 time(train)= 22.35\n",
      "                 err(valid)= 1.37 acc(valid)= 0.52\n",
      "End of epoch 21: err(train)= 1.27 acc(train)= 0.55 time(train)= 22.34\n",
      "                 err(valid)= 1.37 acc(valid)= 0.51\n",
      "End of epoch 22: err(train)= 1.26 acc(train)= 0.56 time(train)= 22.35\n",
      "                 err(valid)= 1.35 acc(valid)= 0.52\n",
      "End of epoch 23: err(train)= 1.24 acc(train)= 0.56 time(train)= 22.36\n",
      "                 err(valid)= 1.36 acc(valid)= 0.52\n",
      "End of epoch 24: err(train)= 1.23 acc(train)= 0.57 time(train)= 22.44\n",
      "                 err(valid)= 1.34 acc(valid)= 0.53\n",
      "End of epoch 25: err(train)= 1.22 acc(train)= 0.57 time(train)= 22.35\n",
      "                 err(valid)= 1.34 acc(valid)= 0.53\n",
      "End of epoch 26: err(train)= 1.21 acc(train)= 0.58 time(train)= 23.25\n",
      "                 err(valid)= 1.35 acc(valid)= 0.53\n",
      "End of epoch 27: err(train)= 1.19 acc(train)= 0.58 time(train)= 23.71\n",
      "                 err(valid)= 1.34 acc(valid)= 0.53\n",
      "End of epoch 28: err(train)= 1.19 acc(train)= 0.58 time(train)= 22.34\n",
      "                 err(valid)= 1.34 acc(valid)= 0.52\n",
      "End of epoch 29: err(train)= 1.17 acc(train)= 0.59 time(train)= 22.49\n",
      "                 err(valid)= 1.33 acc(valid)= 0.53\n",
      "End of epoch 30: err(train)= 1.16 acc(train)= 0.59 time(train)= 22.35\n",
      "                 err(valid)= 1.32 acc(valid)= 0.53\n",
      "End of epoch 31: err(train)= 1.16 acc(train)= 0.59 time(train)= 22.33\n",
      "                 err(valid)= 1.32 acc(valid)= 0.53\n",
      "End of epoch 32: err(train)= 1.14 acc(train)= 0.60 time(train)= 23.04\n",
      "                 err(valid)= 1.33 acc(valid)= 0.53\n",
      "End of epoch 33: err(train)= 1.12 acc(train)= 0.60 time(train)= 22.40\n",
      "                 err(valid)= 1.35 acc(valid)= 0.53\n",
      "End of epoch 34: err(train)= 1.12 acc(train)= 0.61 time(train)= 22.63\n",
      "                 err(valid)= 1.35 acc(valid)= 0.53\n",
      "End of epoch 35: err(train)= 1.10 acc(train)= 0.61 time(train)= 22.45\n",
      "                 err(valid)= 1.31 acc(valid)= 0.54\n",
      "End of epoch 36: err(train)= 1.09 acc(train)= 0.61 time(train)= 22.39\n",
      "                 err(valid)= 1.31 acc(valid)= 0.54\n",
      "End of epoch 37: err(train)= 1.08 acc(train)= 0.62 time(train)= 22.67\n",
      "                 err(valid)= 1.31 acc(valid)= 0.55\n",
      "End of epoch 38: err(train)= 1.07 acc(train)= 0.62 time(train)= 22.40\n",
      "                 err(valid)= 1.30 acc(valid)= 0.55\n",
      "End of epoch 39: err(train)= 1.06 acc(train)= 0.63 time(train)= 22.45\n",
      "                 err(valid)= 1.31 acc(valid)= 0.54\n",
      "End of epoch 40: err(train)= 1.05 acc(train)= 0.63 time(train)= 22.47\n",
      "                 err(valid)= 1.31 acc(valid)= 0.54\n",
      "End of epoch 41: err(train)= 1.04 acc(train)= 0.63 time(train)= 22.53\n",
      "                 err(valid)= 1.31 acc(valid)= 0.54\n",
      "End of epoch 42: err(train)= 1.03 acc(train)= 0.64 time(train)= 22.41\n",
      "                 err(valid)= 1.31 acc(valid)= 0.55\n",
      "End of epoch 43: err(train)= 1.02 acc(train)= 0.64 time(train)= 22.52\n",
      "                 err(valid)= 1.32 acc(valid)= 0.55\n",
      "End of epoch 44: err(train)= 1.01 acc(train)= 0.64 time(train)= 22.52\n",
      "                 err(valid)= 1.31 acc(valid)= 0.55\n",
      "End of epoch 45: err(train)= 1.00 acc(train)= 0.65 time(train)= 22.68\n",
      "                 err(valid)= 1.32 acc(valid)= 0.54\n",
      "End of epoch 46: err(train)= 0.99 acc(train)= 0.65 time(train)= 22.62\n",
      "                 err(valid)= 1.31 acc(valid)= 0.54\n",
      "End of epoch 47: err(train)= 0.98 acc(train)= 0.65 time(train)= 22.70\n",
      "                 err(valid)= 1.32 acc(valid)= 0.54\n",
      "End of epoch 48: err(train)= 0.98 acc(train)= 0.65 time(train)= 24.00\n",
      "                 err(valid)= 1.31 acc(valid)= 0.55\n",
      "End of epoch 49: err(train)= 0.96 acc(train)= 0.66 time(train)= 22.90\n",
      "                 err(valid)= 1.31 acc(valid)= 0.55\n",
      "End of epoch 50: err(train)= 0.95 acc(train)= 0.66 time(train)= 22.73\n",
      "                 err(valid)= 1.33 acc(valid)= 0.55\n"
     ]
    }
   ],
   "source": [
    "train_log = {'epoch_num':[],\n",
    "             'running_error':[],\n",
    "             'running_accuracy':[],\n",
    "             'running_time':[]\n",
    "            }\n",
    "valid_log = {'epoch_num':[],\n",
    "             'running_error':[],\n",
    "             'running_accuracy':[],\n",
    "            }\n",
    "train_data.reset()\n",
    "valid_data.reset()\n",
    "\n",
    "with tf.Session() as sess:\n",
    "    sess.run(init,feed_dict={phrase_train: True})\n",
    "    for e in range(50):\n",
    "        running_error = 0.\n",
    "        running_accuracy = 0.\n",
    "        start_time = time.time()\n",
    "        for input_batch, target_batch in train_data:\n",
    "            _, batch_error, batch_acc = sess.run(\n",
    "                [train_step, error, accuracy], \n",
    "                feed_dict={inputs: input_batch, targets: target_batch, keep_prob:0.8, phrase_train: True})\n",
    "            running_error += batch_error\n",
    "            running_accuracy += batch_acc\n",
    "        epoch_time = time.time() - start_time\n",
    "        running_error /= train_data.num_batches\n",
    "        running_accuracy /= train_data.num_batches\n",
    "        train_log['epoch_num'].append(e+1)\n",
    "        train_log['running_error'].append(running_error)\n",
    "        train_log['running_accuracy'].append(running_accuracy)\n",
    "        train_log['running_time'].append(epoch_time)\n",
    "        print('End of epoch {0:02d}: err(train)= {1:.2f} acc(train)= {2:.2f} time(train)= {3:.2f}'\n",
    "              .format(e + 1, running_error, running_accuracy, epoch_time))\n",
    "        if (e + 1) % 1 == 0:\n",
    "            valid_error = 0.\n",
    "            valid_accuracy = 0.\n",
    "            for input_batch, target_batch in valid_data:\n",
    "                batch_error, batch_acc = sess.run(\n",
    "                    [error, accuracy], \n",
    "                    feed_dict={inputs: input_batch, targets: target_batch, keep_prob:1.0, phrase_train: False})\n",
    "                valid_error += batch_error\n",
    "                valid_accuracy += batch_acc\n",
    "            valid_error /= valid_data.num_batches\n",
    "            valid_accuracy /= valid_data.num_batches\n",
    "            valid_log['epoch_num'].append(e+1)\n",
    "            valid_log['running_error'].append(valid_error)\n",
    "            valid_log['running_accuracy'].append(valid_accuracy)\n",
    "            print('                 err(valid)= {0:.2f} acc(valid)= {1:.2f}'\n",
    "                   .format(valid_error, valid_accuracy))"
   ]
  },
  {
   "cell_type": "code",
   "execution_count": null,
   "metadata": {
    "collapsed": true
   },
   "outputs": [],
   "source": []
  },
  {
   "cell_type": "code",
   "execution_count": null,
   "metadata": {
    "collapsed": true
   },
   "outputs": [],
   "source": []
  }
 ],
 "metadata": {
  "anaconda-cloud": {},
  "kernelspec": {
   "display_name": "Python 2",
   "language": "python",
   "name": "python2"
  },
  "language_info": {
   "codemirror_mode": {
    "name": "ipython",
    "version": 2
   },
   "file_extension": ".py",
   "mimetype": "text/x-python",
   "name": "python",
   "nbconvert_exporter": "python",
   "pygments_lexer": "ipython2",
   "version": "2.7.13"
  }
 },
 "nbformat": 4,
 "nbformat_minor": 1
}
