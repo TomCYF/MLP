{
 "cells": [
  {
   "cell_type": "markdown",
   "metadata": {
    "collapsed": true
   },
   "source": [
    "## Experiments on CIFAR-100"
   ]
  },
  {
   "cell_type": "code",
   "execution_count": 1,
   "metadata": {
    "collapsed": false,
    "scrolled": true
   },
   "outputs": [],
   "source": [
    "import os\n",
    "import tensorflow as tf\n",
    "import numpy as np\n",
    "from mlp.data_providers import CIFAR10DataProvider, CIFAR100DataProvider\n",
    "import matplotlib.pyplot as plt\n",
    "import time"
   ]
  },
  {
   "cell_type": "markdown",
   "metadata": {},
   "source": [
    "### CIFAR-100"
   ]
  },
  {
   "cell_type": "code",
   "execution_count": 2,
   "metadata": {
    "collapsed": false,
    "scrolled": true
   },
   "outputs": [],
   "source": [
    "random_seed = 142857\n",
    "rng = np.random.RandomState(random_seed)\n",
    "train_data = CIFAR10DataProvider('train', batch_size=50,rng=rng)\n",
    "valid_data = CIFAR10DataProvider('valid', batch_size=50,rng=rng)"
   ]
  },
  {
   "cell_type": "markdown",
   "metadata": {},
   "source": [
    "### EXPERIMENT 1 - CNN"
   ]
  },
  {
   "cell_type": "code",
   "execution_count": 19,
   "metadata": {
    "collapsed": true
   },
   "outputs": [],
   "source": [
    "def data_augmentation(image, theight, twidth, whitten_image = True,phrase_train=True):\n",
    "    # augmentation by croping the images target_height = 36, target_width = 36\n",
    "    reshape_image = tf.reshape(image,[50,3,32,32])\n",
    "    trans_image = tf.map_fn(lambda img: tf.transpose(img),reshape_image)                              \n",
    "    padding_image = tf.map_fn(lambda img:  tf.image.resize_image_with_crop_or_pad(img, 36, 36), trans_image)\n",
    "    flip_image = tf.map_fn(lambda img: tf.image.random_flip_left_right(img), padding_image)\n",
    "    if not whitten_image:\n",
    "        # whitten_image = tf.map_fn(lambda img: tf.image.per_image_standardization(img), flip_image)\n",
    "        rndx = np.random.randint(4)\n",
    "        rndy = np.random.randint(4)\n",
    "        new_image = tf.map_fn(lambda img: tf.image.crop_to_bounding_box(img,rndx,rndy,twidth,theight),flip_image)\n",
    "        #output_image = tf.map_fn(lambda img: tf.transpose(img),new_image)\n",
    "        # new_image = tf.image.resize_image_with_crop_or_pad(flip_image, theight, twidth)  \n",
    "        # whitten_image = tf.map_fn(lambda img: tf.image.per_image_standardization(img), new_image)\n",
    "        return new_image\n",
    "        # flip_image = tf.image.random_flip_left_right(image)\n",
    "    else:\n",
    "        whitten_image = tf.map_fn(lambda img: tf.image.per_image_standardization(img), image)\n",
    "        return image\n",
    "      "
   ]
  },
  {
   "cell_type": "code",
   "execution_count": 4,
   "metadata": {
    "collapsed": true
   },
   "outputs": [],
   "source": [
    "def kernel(name, shape, stddev, wd=None):\n",
    "    dtype = tf.float32\n",
    "    with tf.device('/cpu:0'):\n",
    "        kernel_weights = tf.get_variable(name,shape,initializer=tf.contrib.layers.xavier_initializer_conv2d())\n",
    "    if wd is not None:\n",
    "        weight_decay = tf.multiply(tf.nn.l2_loss(kernel_weights), wd, name='weight_loss')\n",
    "        kernel_weights = tf.add(kernel_weights,weight_decay)\n",
    "    return kernel_weights\n",
    "    "
   ]
  },
  {
   "cell_type": "code",
   "execution_count": 5,
   "metadata": {
    "collapsed": true
   },
   "outputs": [],
   "source": [
    "def cnn_layer(inputs,kernel,strides,output_channel,nonlinearity=tf.nn.relu,dropout=False,keep_prob=1.0):\n",
    "    conv = tf.nn.conv2d(inputs, kernel, strides, padding='SAME')\n",
    "    biases = tf.Variable(tf.zeros([output_channel]),'biases')\n",
    "    pre_activation = tf.nn.bias_add(conv, biases)\n",
    "    if dropout:\n",
    "        outputs = tf.nn.dropout(nonlinearity(pre_activation), keep_prob)\n",
    "    else:\n",
    "        outputs = nonlinearity(pre_activation)\n",
    "    return outputs"
   ]
  },
  {
   "cell_type": "code",
   "execution_count": 6,
   "metadata": {
    "collapsed": true
   },
   "outputs": [],
   "source": [
    "def BN_layer(inputs, input_dim, phase_train, scope='bn'):\n",
    "    with tf.variable_scope(scope):\n",
    "        beta = tf.Variable(tf.constant(0.0,shape=input_dim),name='beta',trainable=True)\n",
    "        gamma = tf.Variable(tf.constant(1.0,shape=input_dim),name='gamma',trainable=True)\n",
    "        \n",
    "        batch_mean, batch_var = tf.nn.moments(inputs, [0], name='moments')\n",
    "        \n",
    "        ema = tf.train.ExponentialMovingAverage(decay=0.5)\n",
    "        def mean_var_with_update():\n",
    "            ema_apply_op = ema.apply([batch_mean, batch_var])\n",
    "            with tf.control_dependencies([ema_apply_op]):\n",
    "                return tf.identity(batch_mean), tf.identity(batch_var)\n",
    "\n",
    "        mean, var = tf.cond(phase_train,\n",
    "                            mean_var_with_update,\n",
    "                            lambda: (ema.average(batch_mean), ema.average(batch_var)))\n",
    "        normed = tf.nn.batch_normalization(inputs, mean, var, beta, gamma, 1e-3)\n",
    "    return normed"
   ]
  },
  {
   "cell_type": "code",
   "execution_count": 7,
   "metadata": {
    "collapsed": true
   },
   "outputs": [],
   "source": [
    "def fully_connected_layer(inputs, input_dim, output_dim, nonlinearity=tf.nn.relu,dropout=False,keep_prob=1.0, wd=None):\n",
    "    with tf.device('/cpu:0'):\n",
    "        weights = tf.Variable(\n",
    "            tf.truncated_normal(\n",
    "                [input_dim, output_dim], stddev=2. / (input_dim + output_dim)**0.5), \n",
    "            'weights')\n",
    "        biases = tf.Variable(tf.zeros([output_dim]), 'biases')\n",
    "    \n",
    "    if wd is not None:\n",
    "        weight_decay = tf.multiply(tf.nn.l2_loss(weights), wd, name='weight_loss')\n",
    "        weights = tf.add(weights,weight_decay)    \n",
    "    if dropout:\n",
    "        outputs = tf.nn.dropout(nonlinearity(tf.matmul(inputs, weights) + biases), keep_prob)\n",
    "    else:\n",
    "        outputs = nonlinearity(tf.matmul(inputs, weights) + biases)  \n",
    "    \n",
    "    return outputs"
   ]
  },
  {
   "cell_type": "code",
   "execution_count": 8,
   "metadata": {
    "collapsed": false
   },
   "outputs": [],
   "source": [
    "def residual_layer(inputs, previous_inputs,\n",
    "                   kernel,strides,output_channel,nonlinearity=tf.nn.relu,dropout=False,keep_prob=1.0):\n",
    "    conv = tf.nn.conv2d(inputs, kernel, strides, padding='SAME')\n",
    "    biases = tf.Variable(tf.zeros([output_channel]),'biases')\n",
    "    pre_activation = tf.nn.bias_add(conv, biases)\n",
    "    if dropout:\n",
    "        outputs = tf.nn.dropout(nonlinearity(pre_activation)+previous_inputs, keep_prob)\n",
    "    else:\n",
    "        outputs = nonlinearity(pre_activation)+previous_inputs\n",
    "    return outputs\n",
    "    "
   ]
  },
  {
   "cell_type": "code",
   "execution_count": 9,
   "metadata": {
    "collapsed": false
   },
   "outputs": [],
   "source": [
    "def max_pooling_layer(inputs, window_size, strides):\n",
    "    # using max pooling\n",
    "    pooling_output = tf.nn.max_pool(inputs, ksize=window_size, strides=strides, padding='SAME')\n",
    "    return pooling_output"
   ]
  },
  {
   "cell_type": "code",
   "execution_count": 10,
   "metadata": {
    "collapsed": true
   },
   "outputs": [],
   "source": [
    "def avg_pooling_layer(inputs, window_size, strides):\n",
    "    # using global average pooling\n",
    "    pooling_output = tf.nn.avg_pool(inputs, ksize=window_size, strides=strides, padding='VALID')\n",
    "    return pooling_output"
   ]
  },
  {
   "cell_type": "markdown",
   "metadata": {},
   "source": [
    "### exp1"
   ]
  },
  {
   "cell_type": "code",
   "execution_count": null,
   "metadata": {
    "collapsed": true
   },
   "outputs": [],
   "source": [
    "tf.reset_default_graph()\n",
    "\n",
    "inputs = tf.placeholder(tf.float32, [None,train_data.inputs.shape[1]], 'inputs')\n",
    "targets = tf.placeholder(tf.float32, [None,train_data.num_classes], 'targets')\n",
    "\n",
    "# for setting dropout \n",
    "keep_prob = tf.placeholder(tf.float32)\n",
    "\n",
    "# for setting batch normalization\n",
    "phrase_train = tf.placeholder(tf.bool,name='phase_train')\n",
    "\n",
    "with tf.name_scope('data_augmentation'):\n",
    "#     reshape_inputs = tf.reshape(inputs,[50,32,32,3])\n",
    "     aug_inputs = data_augmentation(reshape_inputs, 32, 32,whit)\n",
    "\n",
    "    \n",
    "with tf.name_scope('hidden-layer-1'):\n",
    "    hidden_1 = fully_connected_layer(inputs, 3072, 1024, dropout=True, keep_prob=keep_prob)   \n",
    "with tf.name_scope('hidden-layer-2'):\n",
    "    hidden_2 = fully_connected_layer(hidden_1, 1024, 1024, dropout=True, keep_prob=keep_prob)\n",
    "with tf.name_scope('output-layer'):\n",
    "    outputs = fully_connected_layer(hidden_2, 1024, train_data.num_classes, tf.identity)\n",
    "\n",
    "with tf.name_scope('error'):\n",
    "    error = tf.reduce_mean(\n",
    "        tf.nn.softmax_cross_entropy_with_logits(outputs, targets))\n",
    "with tf.name_scope('accuracy'):\n",
    "    accuracy = tf.reduce_mean(tf.cast(\n",
    "            tf.equal(tf.argmax(outputs, 1), tf.argmax(targets, 1)), \n",
    "            tf.float32))\n",
    "with tf.name_scope('train'):\n",
    "    train_step = tf.train.MomentumOptimizer(learning_rate = 0.001,momentum=0.9).minimize(error)\n",
    "    \n",
    "init = tf.global_variables_initializer()"
   ]
  },
  {
   "cell_type": "code",
   "execution_count": null,
   "metadata": {
    "collapsed": true
   },
   "outputs": [],
   "source": []
  },
  {
   "cell_type": "code",
   "execution_count": null,
   "metadata": {
    "collapsed": true
   },
   "outputs": [],
   "source": []
  },
  {
   "cell_type": "code",
   "execution_count": null,
   "metadata": {
    "collapsed": true
   },
   "outputs": [],
   "source": []
  }
 ],
 "metadata": {
  "anaconda-cloud": {},
  "kernelspec": {
   "display_name": "Python 2",
   "language": "python",
   "name": "python2"
  },
  "language_info": {
   "codemirror_mode": {
    "name": "ipython",
    "version": 2
   },
   "file_extension": ".py",
   "mimetype": "text/x-python",
   "name": "python",
   "nbconvert_exporter": "python",
   "pygments_lexer": "ipython2",
   "version": "2.7.13"
  }
 },
 "nbformat": 4,
 "nbformat_minor": 1
}
