{
 "cells": [
  {
   "cell_type": "markdown",
   "metadata": {
    "collapsed": true
   },
   "source": [
    "## Experiments on CIFAR-100"
   ]
  },
  {
   "cell_type": "code",
   "execution_count": 1,
   "metadata": {
    "collapsed": false,
    "scrolled": true
   },
   "outputs": [],
   "source": [
    "import os\n",
    "import tensorflow as tf\n",
    "import numpy as np\n",
    "from mlp.data_providers import CIFAR10DataProvider, CIFAR100DataProvider\n",
    "import matplotlib.pyplot as plt\n",
    "import time"
   ]
  },
  {
   "cell_type": "markdown",
   "metadata": {},
   "source": [
    "### CIFAR-100"
   ]
  },
  {
   "cell_type": "code",
   "execution_count": 2,
   "metadata": {
    "collapsed": false,
    "scrolled": true
   },
   "outputs": [],
   "source": [
    "random_seed = 142857\n",
    "rng = np.random.RandomState(random_seed)\n",
    "train_data = CIFAR10DataProvider('train', batch_size=50,rng=rng)\n",
    "valid_data = CIFAR10DataProvider('valid', batch_size=50,rng=rng)"
   ]
  },
  {
   "cell_type": "markdown",
   "metadata": {},
   "source": [
    "### EXPERIMENT 1 - CNN"
   ]
  },
  {
   "cell_type": "code",
   "execution_count": 4,
   "metadata": {
    "collapsed": true
   },
   "outputs": [],
   "source": [
    "def data_augmentation(image, theight, twidth, whitten_image = True):\n",
    "    # augmentation by croping the images target_height = 36, target_width = 36\n",
    "    # padding_image = tf.image.resize_image_with_crop_or_pad(image, 36, 36)\n",
    "    flip_image = tf.map_fn(lambda img: tf.image.random_flip_left_right(img), image)\n",
    "    if whitten_image:\n",
    "        whitten_image = tf.map_fn(lambda img: tf.image.per_image_standardization(img), flip_image)\n",
    "        return whitten_image\n",
    "    else:\n",
    "        return flip_image\n",
    "    # flip_image = tf.image.random_flip_left_right(image)\n",
    "    # new_image = tf.image.resize_image_with_crop_or_pad(flip_image, theight, twidth)    "
   ]
  },
  {
   "cell_type": "code",
   "execution_count": 5,
   "metadata": {
    "collapsed": true
   },
   "outputs": [],
   "source": [
    "def kernel(name, shape, stddev, wd=None):\n",
    "    dtype = tf.float32\n",
    "    with tf.device('/cpu:0'):\n",
    "        kernel_weights = tf.get_variable(name,shape,initializer=tf.truncated_normal_initializer(stddev=stddev,dtype=dtype))\n",
    "    if wd is not None:\n",
    "        weight_decay = tf.multiply(tf.nn.l2_loss(kernel_weights), wd, name='weight_loss')\n",
    "        kernel_weights = tf.add(kernel_weights,weight_decay)\n",
    "    return kernel_weights\n",
    "    "
   ]
  },
  {
   "cell_type": "code",
   "execution_count": 6,
   "metadata": {
    "collapsed": true
   },
   "outputs": [],
   "source": [
    "def cnn_layer(inputs,kernel,strides,output_channel,nonlinearity=tf.nn.relu,dropout=False,keep_prob=1.0):\n",
    "    conv = tf.nn.conv2d(inputs, kernel, strides, padding='SAME')\n",
    "    biases = tf.Variable(tf.zeros([output_channel]),'biases')\n",
    "    pre_activation = tf.nn.bias_add(conv, biases)\n",
    "    if dropout:\n",
    "        outputs = tf.nn.dropout(nonlinearity(pre_activation), keep_prob)\n",
    "    else:\n",
    "        outputs = nonlinearity(pre_activation)\n",
    "    return outputs"
   ]
  },
  {
   "cell_type": "code",
   "execution_count": 7,
   "metadata": {
    "collapsed": true
   },
   "outputs": [],
   "source": [
    "def BN_layer(inputs, input_dim, phase_train, scope='bn'):\n",
    "    with tf.variable_scope(scope):\n",
    "        beta = tf.Variable(tf.constant(0.0,shape=input_dim),name='beta',trainable=True)\n",
    "        gamma = tf.Variable(tf.constant(1.0,shape=input_dim),name='gamma',trainable=True)\n",
    "        \n",
    "        batch_mean, batch_var = tf.nn.moments(inputs, [0], name='moments')\n",
    "        \n",
    "        ema = tf.train.ExponentialMovingAverage(decay=0.5)\n",
    "        def mean_var_with_update():\n",
    "            ema_apply_op = ema.apply([batch_mean, batch_var])\n",
    "            with tf.control_dependencies([ema_apply_op]):\n",
    "                return tf.identity(batch_mean), tf.identity(batch_var)\n",
    "\n",
    "        mean, var = tf.cond(phase_train,\n",
    "                            mean_var_with_update,\n",
    "                            lambda: (ema.average(batch_mean), ema.average(batch_var)))\n",
    "        normed = tf.nn.batch_normalization(inputs, mean, var, beta, gamma, 1e-3)\n",
    "    return normed"
   ]
  },
  {
   "cell_type": "code",
   "execution_count": 8,
   "metadata": {
    "collapsed": true
   },
   "outputs": [],
   "source": [
    "def fully_connected_layer(inputs, input_dim, output_dim, nonlinearity=tf.nn.relu,dropout=False,keep_prob=1.0, wd=None):\n",
    "    with tf.device('/cpu:0'):\n",
    "        weights = tf.Variable(\n",
    "            tf.truncated_normal(\n",
    "                [input_dim, output_dim], stddev=2. / (input_dim + output_dim)**0.5), \n",
    "            'weights')\n",
    "        biases = tf.Variable(tf.zeros([output_dim]), 'biases')\n",
    "    \n",
    "    if wd is not None:\n",
    "        weight_decay = tf.multiply(tf.nn.l2_loss(weights), wd, name='weight_loss')\n",
    "        weights = tf.add(weights,weight_decay)    \n",
    "    if dropout:\n",
    "        outputs = tf.nn.dropout(nonlinearity(tf.matmul(inputs, weights) + biases), keep_prob)\n",
    "    else:\n",
    "        outputs = nonlinearity(tf.matmul(inputs, weights) + biases)  \n",
    "    \n",
    "    return outputs"
   ]
  },
  {
   "cell_type": "code",
   "execution_count": 9,
   "metadata": {
    "collapsed": false
   },
   "outputs": [],
   "source": [
    "def max_pooling_layer(inputs, window_size, strides):\n",
    "    # using max pooling\n",
    "    pooling_output = tf.nn.max_pool(inputs, ksize=window_size, strides=strides, padding='SAME')\n",
    "    return pooling_output"
   ]
  },
  {
   "cell_type": "code",
   "execution_count": 10,
   "metadata": {
    "collapsed": true
   },
   "outputs": [],
   "source": [
    "def avg_pooling_layer(inputs, window_size, strides):\n",
    "    # using global average pooling\n",
    "    pooling_output = tf.nn.avg_pool(inputs, ksize=window_size, strides=strides, padding='VALID')\n",
    "    return pooling_output"
   ]
  },
  {
   "cell_type": "code",
   "execution_count": 26,
   "metadata": {
    "collapsed": false,
    "scrolled": true
   },
   "outputs": [
    {
     "ename": "ValueError",
     "evalue": "Shape must be rank 2 but is rank 4 for 'hidden-layer-1/MatMul' (op: 'MatMul') with input shapes: [50,32,32,16], [61504,1024].",
     "output_type": "error",
     "traceback": [
      "\u001b[0;31m---------------------------------------------------------------------------\u001b[0m",
      "\u001b[0;31mValueError\u001b[0m                                Traceback (most recent call last)",
      "\u001b[0;32m<ipython-input-26-ef7770f94ad2>\u001b[0m in \u001b[0;36m<module>\u001b[0;34m()\u001b[0m\n\u001b[1;32m     29\u001b[0m \u001b[0;32mwith\u001b[0m \u001b[0mtf\u001b[0m\u001b[0;34m.\u001b[0m\u001b[0mname_scope\u001b[0m\u001b[0;34m(\u001b[0m\u001b[0;34m'hidden-layer-1'\u001b[0m\u001b[0;34m)\u001b[0m\u001b[0;34m:\u001b[0m\u001b[0;34m\u001b[0m\u001b[0m\n\u001b[1;32m     30\u001b[0m     \u001b[0mout_of_cnn\u001b[0m \u001b[0;34m=\u001b[0m \u001b[0mtf\u001b[0m\u001b[0;34m.\u001b[0m\u001b[0mreshape\u001b[0m\u001b[0;34m(\u001b[0m\u001b[0mavg_pool\u001b[0m\u001b[0;34m,\u001b[0m\u001b[0;34m[\u001b[0m\u001b[0;36m50\u001b[0m\u001b[0;34m,\u001b[0m\u001b[0;34m-\u001b[0m\u001b[0;36m1\u001b[0m\u001b[0;34m]\u001b[0m\u001b[0;34m)\u001b[0m\u001b[0;34m\u001b[0m\u001b[0m\n\u001b[0;32m---> 31\u001b[0;31m     \u001b[0mhidden_1\u001b[0m \u001b[0;34m=\u001b[0m \u001b[0mfully_connected_layer\u001b[0m\u001b[0;34m(\u001b[0m\u001b[0mbn_1\u001b[0m\u001b[0;34m,\u001b[0m \u001b[0;36m61504\u001b[0m\u001b[0;34m,\u001b[0m \u001b[0;36m1024\u001b[0m\u001b[0;34m,\u001b[0m \u001b[0mdropout\u001b[0m\u001b[0;34m=\u001b[0m\u001b[0mTrue\u001b[0m\u001b[0;34m,\u001b[0m \u001b[0mkeep_prob\u001b[0m\u001b[0;34m=\u001b[0m\u001b[0mkeep_prob\u001b[0m\u001b[0;34m)\u001b[0m\u001b[0;34m\u001b[0m\u001b[0m\n\u001b[0m\u001b[1;32m     32\u001b[0m \u001b[0;32mwith\u001b[0m \u001b[0mtf\u001b[0m\u001b[0;34m.\u001b[0m\u001b[0mname_scope\u001b[0m\u001b[0;34m(\u001b[0m\u001b[0;34m'output-layer'\u001b[0m\u001b[0;34m)\u001b[0m\u001b[0;34m:\u001b[0m\u001b[0;34m\u001b[0m\u001b[0m\n\u001b[1;32m     33\u001b[0m     \u001b[0moutputs\u001b[0m \u001b[0;34m=\u001b[0m \u001b[0mfully_connected_layer\u001b[0m\u001b[0;34m(\u001b[0m\u001b[0mhidden_1\u001b[0m\u001b[0;34m,\u001b[0m \u001b[0;36m1024\u001b[0m\u001b[0;34m,\u001b[0m \u001b[0mtrain_data\u001b[0m\u001b[0;34m.\u001b[0m\u001b[0mnum_classes\u001b[0m\u001b[0;34m,\u001b[0m \u001b[0mtf\u001b[0m\u001b[0;34m.\u001b[0m\u001b[0midentity\u001b[0m\u001b[0;34m)\u001b[0m\u001b[0;34m\u001b[0m\u001b[0m\n",
      "\u001b[0;32m<ipython-input-8-e5a6af8c140e>\u001b[0m in \u001b[0;36mfully_connected_layer\u001b[0;34m(inputs, input_dim, output_dim, nonlinearity, dropout, keep_prob, wd)\u001b[0m\n\u001b[1;32m     11\u001b[0m         \u001b[0mweights\u001b[0m \u001b[0;34m=\u001b[0m \u001b[0mtf\u001b[0m\u001b[0;34m.\u001b[0m\u001b[0madd\u001b[0m\u001b[0;34m(\u001b[0m\u001b[0mweights\u001b[0m\u001b[0;34m,\u001b[0m\u001b[0mweight_decay\u001b[0m\u001b[0;34m)\u001b[0m\u001b[0;34m\u001b[0m\u001b[0m\n\u001b[1;32m     12\u001b[0m     \u001b[0;32mif\u001b[0m \u001b[0mdropout\u001b[0m\u001b[0;34m:\u001b[0m\u001b[0;34m\u001b[0m\u001b[0m\n\u001b[0;32m---> 13\u001b[0;31m         \u001b[0moutputs\u001b[0m \u001b[0;34m=\u001b[0m \u001b[0mtf\u001b[0m\u001b[0;34m.\u001b[0m\u001b[0mnn\u001b[0m\u001b[0;34m.\u001b[0m\u001b[0mdropout\u001b[0m\u001b[0;34m(\u001b[0m\u001b[0mnonlinearity\u001b[0m\u001b[0;34m(\u001b[0m\u001b[0mtf\u001b[0m\u001b[0;34m.\u001b[0m\u001b[0mmatmul\u001b[0m\u001b[0;34m(\u001b[0m\u001b[0minputs\u001b[0m\u001b[0;34m,\u001b[0m \u001b[0mweights\u001b[0m\u001b[0;34m)\u001b[0m \u001b[0;34m+\u001b[0m \u001b[0mbiases\u001b[0m\u001b[0;34m)\u001b[0m\u001b[0;34m,\u001b[0m \u001b[0mkeep_prob\u001b[0m\u001b[0;34m)\u001b[0m\u001b[0;34m\u001b[0m\u001b[0m\n\u001b[0m\u001b[1;32m     14\u001b[0m     \u001b[0;32melse\u001b[0m\u001b[0;34m:\u001b[0m\u001b[0;34m\u001b[0m\u001b[0m\n\u001b[1;32m     15\u001b[0m         \u001b[0moutputs\u001b[0m \u001b[0;34m=\u001b[0m \u001b[0mnonlinearity\u001b[0m\u001b[0;34m(\u001b[0m\u001b[0mtf\u001b[0m\u001b[0;34m.\u001b[0m\u001b[0mmatmul\u001b[0m\u001b[0;34m(\u001b[0m\u001b[0minputs\u001b[0m\u001b[0;34m,\u001b[0m \u001b[0mweights\u001b[0m\u001b[0;34m)\u001b[0m \u001b[0;34m+\u001b[0m \u001b[0mbiases\u001b[0m\u001b[0;34m)\u001b[0m\u001b[0;34m\u001b[0m\u001b[0m\n",
      "\u001b[0;32m/home/tom/miniconda2/envs/mlp/lib/python2.7/site-packages/tensorflow/python/ops/math_ops.pyc\u001b[0m in \u001b[0;36mmatmul\u001b[0;34m(a, b, transpose_a, transpose_b, adjoint_a, adjoint_b, a_is_sparse, b_is_sparse, name)\u001b[0m\n\u001b[1;32m   1727\u001b[0m     \u001b[0;32melse\u001b[0m\u001b[0;34m:\u001b[0m\u001b[0;34m\u001b[0m\u001b[0m\n\u001b[1;32m   1728\u001b[0m       return gen_math_ops._mat_mul(\n\u001b[0;32m-> 1729\u001b[0;31m           a, b, transpose_a=transpose_a, transpose_b=transpose_b, name=name)\n\u001b[0m\u001b[1;32m   1730\u001b[0m \u001b[0;34m\u001b[0m\u001b[0m\n\u001b[1;32m   1731\u001b[0m \u001b[0;34m\u001b[0m\u001b[0m\n",
      "\u001b[0;32m/home/tom/miniconda2/envs/mlp/lib/python2.7/site-packages/tensorflow/python/ops/gen_math_ops.pyc\u001b[0m in \u001b[0;36m_mat_mul\u001b[0;34m(a, b, transpose_a, transpose_b, name)\u001b[0m\n\u001b[1;32m   1440\u001b[0m   \"\"\"\n\u001b[1;32m   1441\u001b[0m   result = _op_def_lib.apply_op(\"MatMul\", a=a, b=b, transpose_a=transpose_a,\n\u001b[0;32m-> 1442\u001b[0;31m                                 transpose_b=transpose_b, name=name)\n\u001b[0m\u001b[1;32m   1443\u001b[0m   \u001b[0;32mreturn\u001b[0m \u001b[0mresult\u001b[0m\u001b[0;34m\u001b[0m\u001b[0m\n\u001b[1;32m   1444\u001b[0m \u001b[0;34m\u001b[0m\u001b[0m\n",
      "\u001b[0;32m/home/tom/miniconda2/envs/mlp/lib/python2.7/site-packages/tensorflow/python/framework/op_def_library.pyc\u001b[0m in \u001b[0;36mapply_op\u001b[0;34m(self, op_type_name, name, **keywords)\u001b[0m\n\u001b[1;32m    757\u001b[0m         op = g.create_op(op_type_name, inputs, output_types, name=scope,\n\u001b[1;32m    758\u001b[0m                          \u001b[0minput_types\u001b[0m\u001b[0;34m=\u001b[0m\u001b[0minput_types\u001b[0m\u001b[0;34m,\u001b[0m \u001b[0mattrs\u001b[0m\u001b[0;34m=\u001b[0m\u001b[0mattr_protos\u001b[0m\u001b[0;34m,\u001b[0m\u001b[0;34m\u001b[0m\u001b[0m\n\u001b[0;32m--> 759\u001b[0;31m                          op_def=op_def)\n\u001b[0m\u001b[1;32m    760\u001b[0m         \u001b[0;32mif\u001b[0m \u001b[0moutput_structure\u001b[0m\u001b[0;34m:\u001b[0m\u001b[0;34m\u001b[0m\u001b[0m\n\u001b[1;32m    761\u001b[0m           \u001b[0moutputs\u001b[0m \u001b[0;34m=\u001b[0m \u001b[0mop\u001b[0m\u001b[0;34m.\u001b[0m\u001b[0moutputs\u001b[0m\u001b[0;34m\u001b[0m\u001b[0m\n",
      "\u001b[0;32m/home/tom/miniconda2/envs/mlp/lib/python2.7/site-packages/tensorflow/python/framework/ops.pyc\u001b[0m in \u001b[0;36mcreate_op\u001b[0;34m(self, op_type, inputs, dtypes, input_types, name, attrs, op_def, compute_shapes, compute_device)\u001b[0m\n\u001b[1;32m   2240\u001b[0m                     original_op=self._default_original_op, op_def=op_def)\n\u001b[1;32m   2241\u001b[0m     \u001b[0;32mif\u001b[0m \u001b[0mcompute_shapes\u001b[0m\u001b[0;34m:\u001b[0m\u001b[0;34m\u001b[0m\u001b[0m\n\u001b[0;32m-> 2242\u001b[0;31m       \u001b[0mset_shapes_for_outputs\u001b[0m\u001b[0;34m(\u001b[0m\u001b[0mret\u001b[0m\u001b[0;34m)\u001b[0m\u001b[0;34m\u001b[0m\u001b[0m\n\u001b[0m\u001b[1;32m   2243\u001b[0m     \u001b[0mself\u001b[0m\u001b[0;34m.\u001b[0m\u001b[0m_add_op\u001b[0m\u001b[0;34m(\u001b[0m\u001b[0mret\u001b[0m\u001b[0;34m)\u001b[0m\u001b[0;34m\u001b[0m\u001b[0m\n\u001b[1;32m   2244\u001b[0m     \u001b[0mself\u001b[0m\u001b[0;34m.\u001b[0m\u001b[0m_record_op_seen_by_control_dependencies\u001b[0m\u001b[0;34m(\u001b[0m\u001b[0mret\u001b[0m\u001b[0;34m)\u001b[0m\u001b[0;34m\u001b[0m\u001b[0m\n",
      "\u001b[0;32m/home/tom/miniconda2/envs/mlp/lib/python2.7/site-packages/tensorflow/python/framework/ops.pyc\u001b[0m in \u001b[0;36mset_shapes_for_outputs\u001b[0;34m(op)\u001b[0m\n\u001b[1;32m   1615\u001b[0m       \u001b[0mshape_func\u001b[0m \u001b[0;34m=\u001b[0m \u001b[0m_call_cpp_shape_fn_and_require_op\u001b[0m\u001b[0;34m\u001b[0m\u001b[0m\n\u001b[1;32m   1616\u001b[0m \u001b[0;34m\u001b[0m\u001b[0m\n\u001b[0;32m-> 1617\u001b[0;31m   \u001b[0mshapes\u001b[0m \u001b[0;34m=\u001b[0m \u001b[0mshape_func\u001b[0m\u001b[0;34m(\u001b[0m\u001b[0mop\u001b[0m\u001b[0;34m)\u001b[0m\u001b[0;34m\u001b[0m\u001b[0m\n\u001b[0m\u001b[1;32m   1618\u001b[0m   \u001b[0;32mif\u001b[0m \u001b[0mshapes\u001b[0m \u001b[0;32mis\u001b[0m \u001b[0mNone\u001b[0m\u001b[0;34m:\u001b[0m\u001b[0;34m\u001b[0m\u001b[0m\n\u001b[1;32m   1619\u001b[0m     raise RuntimeError(\n",
      "\u001b[0;32m/home/tom/miniconda2/envs/mlp/lib/python2.7/site-packages/tensorflow/python/framework/ops.pyc\u001b[0m in \u001b[0;36mcall_with_requiring\u001b[0;34m(op)\u001b[0m\n\u001b[1;32m   1566\u001b[0m \u001b[0;34m\u001b[0m\u001b[0m\n\u001b[1;32m   1567\u001b[0m   \u001b[0;32mdef\u001b[0m \u001b[0mcall_with_requiring\u001b[0m\u001b[0;34m(\u001b[0m\u001b[0mop\u001b[0m\u001b[0;34m)\u001b[0m\u001b[0;34m:\u001b[0m\u001b[0;34m\u001b[0m\u001b[0m\n\u001b[0;32m-> 1568\u001b[0;31m     \u001b[0;32mreturn\u001b[0m \u001b[0mcall_cpp_shape_fn\u001b[0m\u001b[0;34m(\u001b[0m\u001b[0mop\u001b[0m\u001b[0;34m,\u001b[0m \u001b[0mrequire_shape_fn\u001b[0m\u001b[0;34m=\u001b[0m\u001b[0mTrue\u001b[0m\u001b[0;34m)\u001b[0m\u001b[0;34m\u001b[0m\u001b[0m\n\u001b[0m\u001b[1;32m   1569\u001b[0m \u001b[0;34m\u001b[0m\u001b[0m\n\u001b[1;32m   1570\u001b[0m   \u001b[0m_call_cpp_shape_fn_and_require_op\u001b[0m \u001b[0;34m=\u001b[0m \u001b[0mcall_with_requiring\u001b[0m\u001b[0;34m\u001b[0m\u001b[0m\n",
      "\u001b[0;32m/home/tom/miniconda2/envs/mlp/lib/python2.7/site-packages/tensorflow/python/framework/common_shapes.pyc\u001b[0m in \u001b[0;36mcall_cpp_shape_fn\u001b[0;34m(op, input_tensors_needed, input_tensors_as_shapes_needed, debug_python_shape_fn, require_shape_fn)\u001b[0m\n\u001b[1;32m    608\u001b[0m     res = _call_cpp_shape_fn_impl(op, input_tensors_needed,\n\u001b[1;32m    609\u001b[0m                                   \u001b[0minput_tensors_as_shapes_needed\u001b[0m\u001b[0;34m,\u001b[0m\u001b[0;34m\u001b[0m\u001b[0m\n\u001b[0;32m--> 610\u001b[0;31m                                   debug_python_shape_fn, require_shape_fn)\n\u001b[0m\u001b[1;32m    611\u001b[0m     \u001b[0;32mif\u001b[0m \u001b[0;32mnot\u001b[0m \u001b[0misinstance\u001b[0m\u001b[0;34m(\u001b[0m\u001b[0mres\u001b[0m\u001b[0;34m,\u001b[0m \u001b[0mdict\u001b[0m\u001b[0;34m)\u001b[0m\u001b[0;34m:\u001b[0m\u001b[0;34m\u001b[0m\u001b[0m\n\u001b[1;32m    612\u001b[0m       \u001b[0;31m# Handles the case where _call_cpp_shape_fn_impl calls unknown_shape(op).\u001b[0m\u001b[0;34m\u001b[0m\u001b[0;34m\u001b[0m\u001b[0m\n",
      "\u001b[0;32m/home/tom/miniconda2/envs/mlp/lib/python2.7/site-packages/tensorflow/python/framework/common_shapes.pyc\u001b[0m in \u001b[0;36m_call_cpp_shape_fn_impl\u001b[0;34m(op, input_tensors_needed, input_tensors_as_shapes_needed, debug_python_shape_fn, require_shape_fn)\u001b[0m\n\u001b[1;32m    673\u001b[0m       \u001b[0mmissing_shape_fn\u001b[0m \u001b[0;34m=\u001b[0m \u001b[0mTrue\u001b[0m\u001b[0;34m\u001b[0m\u001b[0m\n\u001b[1;32m    674\u001b[0m     \u001b[0;32melse\u001b[0m\u001b[0;34m:\u001b[0m\u001b[0;34m\u001b[0m\u001b[0m\n\u001b[0;32m--> 675\u001b[0;31m       \u001b[0;32mraise\u001b[0m \u001b[0mValueError\u001b[0m\u001b[0;34m(\u001b[0m\u001b[0merr\u001b[0m\u001b[0;34m.\u001b[0m\u001b[0mmessage\u001b[0m\u001b[0;34m)\u001b[0m\u001b[0;34m\u001b[0m\u001b[0m\n\u001b[0m\u001b[1;32m    676\u001b[0m \u001b[0;34m\u001b[0m\u001b[0m\n\u001b[1;32m    677\u001b[0m   \u001b[0;32mif\u001b[0m \u001b[0mmissing_shape_fn\u001b[0m\u001b[0;34m:\u001b[0m\u001b[0;34m\u001b[0m\u001b[0m\n",
      "\u001b[0;31mValueError\u001b[0m: Shape must be rank 2 but is rank 4 for 'hidden-layer-1/MatMul' (op: 'MatMul') with input shapes: [50,32,32,16], [61504,1024]."
     ]
    }
   ],
   "source": [
    "tf.reset_default_graph()\n",
    "\n",
    "inputs = tf.placeholder(tf.float32, [None,train_data.inputs.shape[1]], 'inputs')\n",
    "targets = tf.placeholder(tf.float32, [None,train_data.num_classes], 'targets')\n",
    "\n",
    "# for setting dropout \n",
    "keep_prob = tf.placeholder(tf.float32)\n",
    "\n",
    "# for setting batch normalization\n",
    "phase_train = tf.placeholder(tf.bool,name='phase_train')\n",
    "\n",
    "# learning rate\n",
    "learning_rate = tf.placeholder(tf.float32)\n",
    "\n",
    "with tf.name_scope('data_augmentation'):\n",
    "    reshape_inputs = tf.reshape(inputs,[50,32,32,3])\n",
    "    aug_inputs = data_augmentation(reshape_inputs, 32, 32)\n",
    "\n",
    "with tf.name_scope('kernel-1'):\n",
    "    kernel_1 = kernel('kernel-1', [5,5,3,16], stddev=5e-2, wd=0.0001)\n",
    "with tf.name_scope('cnn-layer-1'):    \n",
    "    cnn_1 = cnn_layer(aug_inputs, kernel_1, [1,1,1,1],16,dropout=False, keep_prob=keep_prob)  \n",
    "with tf.name_scope('bn-layer-1'):\n",
    "    bn_1 = BN_layer(cnn_1, [32,32,16], phase_train)\n",
    "    \n",
    "#with tf.name_scope('avg_pooling'):\n",
    "#    avg_pool = avg_pooling_layer(bn_1, window_size=[1, 2, 2, 1], strides=[1, 1, 1, 1])\n",
    "    \n",
    "with tf.name_scope('hidden-layer-1'):\n",
    "    out_of_cnn = tf.reshape(avg_pool,[50,-1])\n",
    "    hidden_1 = fully_connected_layer(bn_1, 16384, 1024, dropout=True, keep_prob=keep_prob)       \n",
    "with tf.name_scope('output-layer'):\n",
    "    outputs = fully_connected_layer(hidden_1, 1024, train_data.num_classes, tf.identity)\n",
    "\n",
    "with tf.name_scope('error'):\n",
    "    error = tf.reduce_mean(\n",
    "        tf.nn.softmax_cross_entropy_with_logits(outputs, targets))\n",
    "with tf.name_scope('accuracy'):\n",
    "    accuracy = tf.reduce_mean(tf.cast(\n",
    "            tf.equal(tf.argmax(outputs, 1), tf.argmax(targets, 1)), \n",
    "            tf.float32))\n",
    "with tf.name_scope('train'):\n",
    "    train_step = tf.train.MomentumOptimizer(learning_rate = learning_rate,momentum=0.9).minimize(error)\n",
    "    \n",
    "init = tf.global_variables_initializer()"
   ]
  },
  {
   "cell_type": "code",
   "execution_count": 24,
   "metadata": {
    "collapsed": false,
    "scrolled": true
   },
   "outputs": [
    {
     "name": "stdout",
     "output_type": "stream",
     "text": [
      "End of epoch 01: err(train)=2.63 acc(train)=0.37 time(train)=119.00\n",
      "                 err(valid)=1.96 acc(valid)=0.43\n",
      "End of epoch 02: err(train)=1.59 acc(train)=0.49 time(train)=118.80\n",
      "                 err(valid)=1.45 acc(valid)=0.53\n",
      "End of epoch 03: err(train)=1.23 acc(train)=0.58 time(train)=118.88\n",
      "                 err(valid)=1.37 acc(valid)=0.55\n",
      "End of epoch 04: err(train)=1.06 acc(train)=0.64 time(train)=123.18\n",
      "                 err(valid)=1.28 acc(valid)=0.59\n",
      "End of epoch 05: err(train)=0.93 acc(train)=0.69 time(train)=119.72\n",
      "                 err(valid)=1.33 acc(valid)=0.59\n",
      "End of epoch 06: err(train)=0.82 acc(train)=0.72 time(train)=121.25\n",
      "                 err(valid)=1.37 acc(valid)=0.61\n",
      "End of epoch 07: err(train)=0.74 acc(train)=0.75 time(train)=122.39\n",
      "                 err(valid)=1.41 acc(valid)=0.61\n",
      "End of epoch 08: err(train)=0.64 acc(train)=0.79 time(train)=122.15\n",
      "                 err(valid)=1.53 acc(valid)=0.62\n",
      "End of epoch 09: err(train)=0.57 acc(train)=0.81 time(train)=119.60\n",
      "                 err(valid)=1.56 acc(valid)=0.61\n",
      "End of epoch 10: err(train)=0.50 acc(train)=0.83 time(train)=119.30\n",
      "                 err(valid)=1.58 acc(valid)=0.62\n",
      "End of epoch 11: err(train)=0.45 acc(train)=0.85 time(train)=119.11\n",
      "                 err(valid)=1.64 acc(valid)=0.62\n",
      "End of epoch 12: err(train)=0.30 acc(train)=0.90 time(train)=121.92\n",
      "                 err(valid)=1.48 acc(valid)=0.63\n",
      "End of epoch 13: err(train)=0.25 acc(train)=0.92 time(train)=119.69\n",
      "                 err(valid)=1.51 acc(valid)=0.64\n",
      "End of epoch 14: err(train)=0.21 acc(train)=0.93 time(train)=122.26\n",
      "                 err(valid)=1.53 acc(valid)=0.64\n",
      "End of epoch 15: err(train)=0.19 acc(train)=0.94 time(train)=123.11\n",
      "                 err(valid)=1.54 acc(valid)=0.65\n",
      "End of epoch 16: err(train)=0.18 acc(train)=0.94 time(train)=124.49\n",
      "                 err(valid)=1.51 acc(valid)=0.64\n",
      "End of epoch 17: err(train)=0.16 acc(train)=0.95 time(train)=122.71\n",
      "                 err(valid)=1.55 acc(valid)=0.65\n",
      "End of epoch 18: err(train)=0.15 acc(train)=0.96 time(train)=123.65\n",
      "                 err(valid)=1.53 acc(valid)=0.65\n",
      "End of epoch 19: err(train)=0.14 acc(train)=0.96 time(train)=122.83\n",
      "                 err(valid)=1.59 acc(valid)=0.65\n",
      "End of epoch 20: err(train)=0.13 acc(train)=0.96 time(train)=125.25\n",
      "                 err(valid)=1.61 acc(valid)=0.65\n",
      "End of epoch 21: err(train)=0.12 acc(train)=0.96 time(train)=119.70\n",
      "                 err(valid)=1.61 acc(valid)=0.65\n",
      "End of epoch 22: err(train)=0.12 acc(train)=0.97 time(train)=121.46\n",
      "                 err(valid)=1.52 acc(valid)=0.65\n",
      "End of epoch 23: err(train)=0.11 acc(train)=0.97 time(train)=122.40\n",
      "                 err(valid)=1.54 acc(valid)=0.65\n",
      "End of epoch 24: err(train)=0.11 acc(train)=0.97 time(train)=122.83\n",
      "                 err(valid)=1.61 acc(valid)=0.65\n",
      "End of epoch 25: err(train)=0.11 acc(train)=0.97 time(train)=120.97\n",
      "                 err(valid)=1.54 acc(valid)=0.65\n",
      "End of epoch 26: err(train)=0.11 acc(train)=0.97 time(train)=119.43\n",
      "                 err(valid)=1.58 acc(valid)=0.65\n",
      "End of epoch 27: err(train)=0.11 acc(train)=0.97 time(train)=118.80\n",
      "                 err(valid)=1.52 acc(valid)=0.65\n",
      "End of epoch 28: err(train)=0.11 acc(train)=0.97 time(train)=119.20\n",
      "                 err(valid)=1.60 acc(valid)=0.65\n",
      "End of epoch 29: err(train)=0.11 acc(train)=0.97 time(train)=126.69\n",
      "                 err(valid)=1.58 acc(valid)=0.66\n",
      "End of epoch 30: err(train)=0.11 acc(train)=0.97 time(train)=124.80\n",
      "                 err(valid)=1.60 acc(valid)=0.65\n",
      "End of epoch 31: err(train)=0.11 acc(train)=0.97 time(train)=125.48\n",
      "                 err(valid)=1.53 acc(valid)=0.66\n",
      "End of epoch 32: err(train)=0.11 acc(train)=0.97 time(train)=123.19\n",
      "                 err(valid)=1.63 acc(valid)=0.65\n",
      "End of epoch 33: err(train)=0.11 acc(train)=0.97 time(train)=122.41\n",
      "                 err(valid)=1.57 acc(valid)=0.65\n",
      "End of epoch 34: err(train)=0.10 acc(train)=0.97 time(train)=127.24\n",
      "                 err(valid)=1.57 acc(valid)=0.65\n",
      "End of epoch 35: err(train)=0.10 acc(train)=0.97 time(train)=126.76\n",
      "                 err(valid)=1.65 acc(valid)=0.65\n",
      "End of epoch 36: err(train)=0.10 acc(train)=0.97 time(train)=124.50\n",
      "                 err(valid)=1.64 acc(valid)=0.65\n",
      "End of epoch 37: err(train)=0.10 acc(train)=0.97 time(train)=119.66\n",
      "                 err(valid)=1.60 acc(valid)=0.65\n",
      "End of epoch 38: err(train)=0.10 acc(train)=0.97 time(train)=124.43\n",
      "                 err(valid)=1.57 acc(valid)=0.65\n",
      "End of epoch 39: err(train)=0.10 acc(train)=0.97 time(train)=129.34\n",
      "                 err(valid)=1.52 acc(valid)=0.66\n",
      "End of epoch 40: err(train)=0.10 acc(train)=0.97 time(train)=121.99\n",
      "                 err(valid)=1.67 acc(valid)=0.65\n",
      "End of epoch 41: err(train)=0.10 acc(train)=0.97 time(train)=119.68\n",
      "                 err(valid)=1.55 acc(valid)=0.65\n",
      "End of epoch 42: err(train)=0.10 acc(train)=0.97 time(train)=122.95\n",
      "                 err(valid)=1.63 acc(valid)=0.65\n",
      "End of epoch 43: err(train)=0.10 acc(train)=0.97 time(train)=121.22\n",
      "                 err(valid)=1.58 acc(valid)=0.65\n",
      "End of epoch 44: err(train)=0.10 acc(train)=0.97 time(train)=124.26\n",
      "                 err(valid)=1.69 acc(valid)=0.65\n",
      "End of epoch 45: err(train)=0.10 acc(train)=0.97 time(train)=119.82\n",
      "                 err(valid)=1.59 acc(valid)=0.66\n",
      "End of epoch 46: err(train)=0.10 acc(train)=0.97 time(train)=121.32\n",
      "                 err(valid)=1.59 acc(valid)=0.65\n",
      "End of epoch 47: err(train)=0.10 acc(train)=0.97 time(train)=120.41\n",
      "                 err(valid)=1.65 acc(valid)=0.65\n",
      "End of epoch 48: err(train)=0.09 acc(train)=0.97 time(train)=123.66\n",
      "                 err(valid)=1.63 acc(valid)=0.66\n",
      "End of epoch 49: err(train)=0.10 acc(train)=0.97 time(train)=123.29\n",
      "                 err(valid)=1.63 acc(valid)=0.65\n",
      "End of epoch 50: err(train)=0.10 acc(train)=0.97 time(train)=124.29\n",
      "                 err(valid)=1.64 acc(valid)=0.65\n"
     ]
    }
   ],
   "source": [
    "train_log = {'epoch_num':[],\n",
    "             'running_error':[],\n",
    "             'running_accuracy':[],\n",
    "             'running_time':[]\n",
    "            }\n",
    "valid_log = {'epoch_num':[],\n",
    "             'running_error':[],\n",
    "             'running_accuracy':[],\n",
    "            }\n",
    "train_data.reset()\n",
    "valid_data.reset()\n",
    "\n",
    "with tf.Session() as sess:\n",
    "    sess.run(init,feed_dict={phase_train: True, learning_rate: 0.01})\n",
    "    for e in range(50):\n",
    "        running_error = 0.\n",
    "        running_accuracy = 0.\n",
    "        start_time = time.time()\n",
    "        if e <= 10: lr = 0.01\n",
    "        elif e <= 20: lr = 0.001\n",
    "        elif e <= 30: lr = 0.0001\n",
    "        else lr = 0.00001\n",
    "        for input_batch, target_batch in train_data:\n",
    "            _, batch_error, batch_acc = sess.run(\n",
    "                [train_step, error, accuracy], \n",
    "                feed_dict={inputs: input_batch, targets: target_batch, keep_prob:0.8, phase_train: True, learning_rate:lr})\n",
    "            running_error += batch_error\n",
    "            running_accuracy += batch_acc\n",
    "        epoch_time = time.time() - start_time\n",
    "        running_error /= train_data.num_batches\n",
    "        running_accuracy /= train_data.num_batches\n",
    "        train_log['epoch_num'].append(e+1)\n",
    "        train_log['running_error'].append(running_error)\n",
    "        train_log['running_accuracy'].append(running_accuracy)\n",
    "        train_log['running_time'].append(epoch_time)\n",
    "        print('End of epoch {0:02d}: err(train)={1:.2f} acc(train)={2:.2f} time(train)={3:.2f}'\n",
    "              .format(e + 1, running_error, running_accuracy, epoch_time))\n",
    "        if (e + 1) % 1 == 0:\n",
    "            valid_error = 0.\n",
    "            valid_accuracy = 0.\n",
    "            for input_batch, target_batch in valid_data:\n",
    "                batch_error, batch_acc = sess.run(\n",
    "                    [error, accuracy], \n",
    "                    feed_dict={inputs: input_batch, targets: target_batch, keep_prob:1.0, phase_train: False})\n",
    "                valid_error += batch_error\n",
    "                valid_accuracy += batch_acc\n",
    "            valid_error /= valid_data.num_batches\n",
    "            valid_accuracy /= valid_data.num_batches\n",
    "            valid_log['epoch_num'].append(e+1)\n",
    "            valid_log['running_error'].append(valid_error)\n",
    "            valid_log['running_accuracy'].append(valid_accuracy)\n",
    "            print('                 err(valid)={0:.2f} acc(valid)={1:.2f}'\n",
    "                   .format(valid_error, valid_accuracy))"
   ]
  },
  {
   "cell_type": "code",
   "execution_count": null,
   "metadata": {
    "collapsed": true
   },
   "outputs": [],
   "source": []
  }
 ],
 "metadata": {
  "anaconda-cloud": {},
  "kernelspec": {
   "display_name": "Python [conda env:mlp]",
   "language": "python",
   "name": "conda-env-mlp-py"
  },
  "language_info": {
   "codemirror_mode": {
    "name": "ipython",
    "version": 2
   },
   "file_extension": ".py",
   "mimetype": "text/x-python",
   "name": "python",
   "nbconvert_exporter": "python",
   "pygments_lexer": "ipython2",
   "version": "2.7.12"
  }
 },
 "nbformat": 4,
 "nbformat_minor": 1
}
