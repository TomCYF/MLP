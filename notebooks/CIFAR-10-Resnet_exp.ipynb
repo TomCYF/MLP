{
 "cells": [
  {
   "cell_type": "markdown",
   "metadata": {
    "collapsed": true
   },
   "source": [
    "## Experiments on CIFAR-100"
   ]
  },
  {
   "cell_type": "code",
   "execution_count": 1,
   "metadata": {
    "collapsed": false,
    "scrolled": true
   },
   "outputs": [],
   "source": [
    "import os\n",
    "import tensorflow as tf\n",
    "import numpy as np\n",
    "from mlp.data_providers import CIFAR10DataProvider, CIFAR100DataProvider\n",
    "import matplotlib.pyplot as plt\n",
    "import time"
   ]
  },
  {
   "cell_type": "markdown",
   "metadata": {},
   "source": [
    "### CIFAR-100"
   ]
  },
  {
   "cell_type": "code",
   "execution_count": 2,
   "metadata": {
    "collapsed": false,
    "scrolled": true
   },
   "outputs": [],
   "source": [
    "random_seed = 142857\n",
    "rng = np.random.RandomState(random_seed)\n",
    "train_data = CIFAR10DataProvider('train', batch_size=50,rng=rng)\n",
    "valid_data = CIFAR10DataProvider('valid', batch_size=50,rng=rng)"
   ]
  },
  {
   "cell_type": "markdown",
   "metadata": {},
   "source": [
    "### EXPERIMENT 1 - CNN"
   ]
  },
  {
   "cell_type": "code",
   "execution_count": 3,
   "metadata": {
    "collapsed": true
   },
   "outputs": [],
   "source": [
    "def data_augmentation(image, theight, twidth, whitten_image = True,phrase_train=True):\n",
    "    # augmentation by croping the images target_height = 36, target_width = 36\n",
    "    reshape_image = tf.reshape(image,[50,3,32,32])\n",
    "    trans_image = tf.map_fn(lambda img: tf.transpose(img),reshape_image)                              \n",
    "    padding_image = tf.map_fn(lambda img:  tf.image.resize_image_with_crop_or_pad(img, 36, 36), trans_image)\n",
    "    flip_image = tf.map_fn(lambda img: tf.image.random_flip_left_right(img), padding_image)\n",
    "    if not whitten_image:\n",
    "        # whitten_image = tf.map_fn(lambda img: tf.image.per_image_standardization(img), flip_image)\n",
    "        rndx = np.random.randint(4)\n",
    "        rndy = np.random.randint(4)\n",
    "        new_image = tf.map_fn(lambda img: tf.image.crop_to_bounding_box(img,rndx,rndy,twidth,theight),flip_image)\n",
    "        #output_image = tf.map_fn(lambda img: tf.transpose(img),new_image)\n",
    "        # new_image = tf.image.resize_image_with_crop_or_pad(flip_image, theight, twidth)  \n",
    "        # whitten_image = tf.map_fn(lambda img: tf.image.per_image_standardization(img), new_image)\n",
    "        return new_image\n",
    "        # flip_image = tf.image.random_flip_left_right(image)\n",
    "    else:\n",
    "        whitten_image = tf.map_fn(lambda img: tf.image.per_image_standardization(img), image)\n",
    "        return image\n",
    "      "
   ]
  },
  {
   "cell_type": "code",
   "execution_count": 4,
   "metadata": {
    "collapsed": true
   },
   "outputs": [],
   "source": [
    "def kernel(name, shape, stddev, wd=None):\n",
    "    dtype = tf.float32\n",
    "    with tf.device('/cpu:0'):\n",
    "        kernel_weights = tf.get_variable(name,shape,initializer=tf.contrib.layers.xavier_initializer_conv2d())\n",
    "    if wd is not None:\n",
    "        weight_decay = tf.multiply(tf.nn.l2_loss(kernel_weights), wd, name='weight_loss')\n",
    "        kernel_weights = tf.add(kernel_weights,weight_decay)\n",
    "    return kernel_weights\n",
    "    "
   ]
  },
  {
   "cell_type": "code",
   "execution_count": 5,
   "metadata": {
    "collapsed": true
   },
   "outputs": [],
   "source": [
    "def cnn_layer(inputs,kernel,strides,output_channel,nonlinearity=tf.nn.relu,dropout=False,keep_prob=1.0):\n",
    "    conv = tf.nn.conv2d(inputs, kernel, strides, padding='SAME')\n",
    "    biases = tf.Variable(tf.zeros([output_channel]),'biases')\n",
    "    pre_activation = tf.nn.bias_add(conv, biases)\n",
    "    if dropout:\n",
    "        outputs = tf.nn.dropout(nonlinearity(pre_activation), keep_prob)\n",
    "    else:\n",
    "        outputs = nonlinearity(pre_activation)\n",
    "    return outputs"
   ]
  },
  {
   "cell_type": "code",
   "execution_count": 6,
   "metadata": {
    "collapsed": true
   },
   "outputs": [],
   "source": [
    "def BN_layer(inputs, input_dim, phase_train, scope='bn'):\n",
    "    with tf.variable_scope(scope):\n",
    "        beta = tf.Variable(tf.constant(0.0,shape=input_dim),name='beta',trainable=True)\n",
    "        gamma = tf.Variable(tf.constant(1.0,shape=input_dim),name='gamma',trainable=True)\n",
    "        \n",
    "        batch_mean, batch_var = tf.nn.moments(inputs, [0], name='moments')\n",
    "        \n",
    "        ema = tf.train.ExponentialMovingAverage(decay=0.5)\n",
    "        def mean_var_with_update():\n",
    "            ema_apply_op = ema.apply([batch_mean, batch_var])\n",
    "            with tf.control_dependencies([ema_apply_op]):\n",
    "                return tf.identity(batch_mean), tf.identity(batch_var)\n",
    "\n",
    "        mean, var = tf.cond(phase_train,\n",
    "                            mean_var_with_update,\n",
    "                            lambda: (ema.average(batch_mean), ema.average(batch_var)))\n",
    "        normed = tf.nn.batch_normalization(inputs, mean, var, beta, gamma, 1e-3)\n",
    "    return normed"
   ]
  },
  {
   "cell_type": "code",
   "execution_count": 7,
   "metadata": {
    "collapsed": true
   },
   "outputs": [],
   "source": [
    "def fully_connected_layer(inputs, input_dim, output_dim, nonlinearity=tf.nn.relu,dropout=False,keep_prob=1.0, wd=None):\n",
    "    with tf.device('/cpu:0'):\n",
    "        weights = tf.Variable(\n",
    "            tf.truncated_normal(\n",
    "                [input_dim, output_dim], stddev=2. / (input_dim + output_dim)**0.5), \n",
    "            'weights')\n",
    "        biases = tf.Variable(tf.zeros([output_dim]), 'biases')\n",
    "    \n",
    "    if wd is not None:\n",
    "        weight_decay = tf.multiply(tf.nn.l2_loss(weights), wd, name='weight_loss')\n",
    "        weights = tf.add(weights,weight_decay)    \n",
    "    if dropout:\n",
    "        outputs = tf.nn.dropout(nonlinearity(tf.matmul(inputs, weights) + biases), keep_prob)\n",
    "    else:\n",
    "        outputs = nonlinearity(tf.matmul(inputs, weights) + biases)  \n",
    "    \n",
    "    return outputs"
   ]
  },
  {
   "cell_type": "code",
   "execution_count": 13,
   "metadata": {
    "collapsed": false
   },
   "outputs": [],
   "source": [
    "def residual_layer(inputs, previous_inputs,\n",
    "                   kernel,strides,output_channel,nonlinearity=tf.nn.relu,\n",
    "                   dropout=False,keep_prob=1.0,wd=None):\n",
    "    activation_output = nonlinearity(inputs)\n",
    "    conv = tf.nn.conv2d(activation_output, kernel, strides, padding='SAME')\n",
    "    biases = tf.Variable(tf.zeros([output_channel]),'biases')\n",
    "    outputs = tf.nn.bias_add(conv, biases)\n",
    "    if previous_inputs is not None:\n",
    "        residual_output = tf.identity(previous_inputs) + outputs\n",
    "        return residual_output\n",
    "    else:\n",
    "        return outputs\n",
    "    "
   ]
  },
  {
   "cell_type": "code",
   "execution_count": 14,
   "metadata": {
    "collapsed": false
   },
   "outputs": [],
   "source": [
    "def max_pooling_layer(inputs, window_size, strides):\n",
    "    # using max pooling\n",
    "    pooling_output = tf.nn.max_pool(inputs, ksize=window_size, strides=strides, padding='SAME')\n",
    "    return pooling_output"
   ]
  },
  {
   "cell_type": "code",
   "execution_count": 15,
   "metadata": {
    "collapsed": true
   },
   "outputs": [],
   "source": [
    "def avg_pooling_layer(inputs, window_size, strides):\n",
    "    # using global average pooling\n",
    "    pooling_output = tf.nn.avg_pool(inputs, ksize=window_size, strides=strides, padding='VALID')\n",
    "    return pooling_output"
   ]
  },
  {
   "cell_type": "markdown",
   "metadata": {},
   "source": [
    "### further trying -- baselinelearning on two residual layers"
   ]
  },
  {
   "cell_type": "code",
   "execution_count": 16,
   "metadata": {
    "collapsed": true
   },
   "outputs": [],
   "source": [
    "tf.reset_default_graph()\n",
    "\n",
    "inputs = tf.placeholder(tf.float32, [None,train_data.inputs.shape[1]], 'inputs')\n",
    "targets = tf.placeholder(tf.float32, [None,train_data.num_classes], 'targets')\n",
    "\n",
    "# for setting dropout \n",
    "keep_prob = tf.placeholder(tf.float32)\n",
    "\n",
    "# for setting batch normalization\n",
    "phrase_train = tf.placeholder(tf.bool,name='phase_train')\n",
    "\n",
    "# learning rate schedule manually\n",
    "learning_rate = tf.placeholder(tf.float32)\n",
    "\n",
    "with tf.name_scope('data_augmentation'):\n",
    "    # reshape_inputs = tf.reshape(inputs,[50,32,32,3])\n",
    "    aug_inputs = data_augmentation(inputs, 32, 32, whitten_image=False,\n",
    "                                   phrase_train = phrase_train)\n",
    "\n",
    "with tf.name_scope('kernel-1'):\n",
    "    kernel_1 = kernel('kernel-1', [3,3,3,64], stddev=5e-2, wd=0.0001)\n",
    "with tf.name_scope('cnn-layer-1'):    \n",
    "    cnn_1 = cnn_layer(aug_inputs, kernel_1, [1,1,1,1],64,dropout=False, keep_prob=keep_prob)  \n",
    "with tf.name_scope('bn-layer-1'):\n",
    "    bn_1 = BN_layer(cnn_1, [32,32,64], phrase_train)\n",
    "\n",
    "with tf.name_scope('max-pooling'):\n",
    "    max_pool = max_pooling_layer(bn_1,window_size=[1, 2, 2, 1], strides=[1, 2, 2, 1])\n",
    "    \n",
    "with tf.name_scope('kernel-2'):\n",
    "    kernel_2 = kernel('kernel-2', [3,3,64,64], stddev=5e-2, wd=0.0001)\n",
    "with tf.name_scope('bn-layer-2'):\n",
    "    bn_2 = BN_layer(max_pool, [16,16,64], phrase_train)\n",
    "with tf.name_scope('res-layer-2'):    \n",
    "    res_2 = residual_layer(bn_2, None, kernel_2, [1,1,1,1],64,dropout=False, keep_prob=keep_prob)  \n",
    "\n",
    "with tf.name_scope('kernel-3'):\n",
    "    kernel_3 = kernel('kernel-3', [3,3,64,64], stddev=5e-2, wd=0.0001)\n",
    "with tf.name_scope('bn-layer-3'):\n",
    "    bn_3 = BN_layer(res_2, [16,16,64], phrase_train)\n",
    "with tf.name_scope('res-layer-3'):    \n",
    "    res_3 = residual_layer(bn_3, None, kernel_3, [1,1,1,1],64,dropout=False, keep_prob=keep_prob)\n",
    "\n",
    "with tf.name_scope('kernel-4'):\n",
    "    kernel_4 = kernel('kernel-4', [3,3,64,64], stddev=5e-2, wd=0.0001)\n",
    "with tf.name_scope('bn-layer-4'):\n",
    "    bn_4 = BN_layer(res_3, [16,16,64], phrase_train)\n",
    "with tf.name_scope('res-layer-4'):    \n",
    "    res_4 = residual_layer(bn_4, None, kernel_4, [1,1,1,1],64,dropout=False, keep_prob=keep_prob)  \n",
    "\n",
    "with tf.name_scope('kernel-5'):\n",
    "    kernel_5 = kernel('kernel-5', [3,3,64,64], stddev=5e-2, wd=0.0001)\n",
    "with tf.name_scope('bn-layer-5'):\n",
    "    bn_5 = BN_layer(res_4, [16,16,64], phrase_train)\n",
    "with tf.name_scope('res-layer-3'):    \n",
    "    res_5 = residual_layer(bn_5, None, kernel_5, [1,1,1,1],64,dropout=False, keep_prob=keep_prob)\n",
    "\n",
    "with tf.name_scope('bn-layer-4'):\n",
    "    bn_4 = BN_layer(res_5, [16,16,64], phrase_train)\n",
    "    \n",
    "with tf.name_scope('avg_pooling'):\n",
    "    avg_pool = avg_pooling_layer(bn_4, window_size=[1, 2, 2, 1], strides=[1, 1, 1, 1])\n",
    "    \n",
    "with tf.name_scope('hidden-layer-1'):\n",
    "    out_of_cnn = tf.reshape(avg_pool,[50,-1])\n",
    "    hidden_1 = fully_connected_layer(out_of_cnn, 14400, 1024, dropout=True, keep_prob=keep_prob)   \n",
    "with tf.name_scope('hidden-layer-2'):\n",
    "    hidden_2 = fully_connected_layer(hidden_1, 1024, 1024, dropout=True, keep_prob=keep_prob)\n",
    "with tf.name_scope('output-layer'):\n",
    "    outputs = fully_connected_layer(hidden_2, 1024, train_data.num_classes, tf.identity)\n",
    "\n",
    "with tf.name_scope('error'):\n",
    "    error = tf.reduce_mean(\n",
    "        tf.nn.softmax_cross_entropy_with_logits(outputs, targets))\n",
    "with tf.name_scope('accuracy'):\n",
    "    accuracy = tf.reduce_mean(tf.cast(\n",
    "            tf.equal(tf.argmax(outputs, 1), tf.argmax(targets, 1)), \n",
    "            tf.float32))\n",
    "with tf.name_scope('train'):\n",
    "    train_step = tf.train.MomentumOptimizer(learning_rate = learning_rate,momentum=0.9).minimize(error)\n",
    "    \n",
    "init = tf.global_variables_initializer()"
   ]
  },
  {
   "cell_type": "code",
   "execution_count": 17,
   "metadata": {
    "collapsed": false
   },
   "outputs": [
    {
     "ename": "KeyboardInterrupt",
     "evalue": "",
     "output_type": "error",
     "traceback": [
      "\u001b[0;31m---------------------------------------------------------------------------\u001b[0m",
      "\u001b[0;31mKeyboardInterrupt\u001b[0m                         Traceback (most recent call last)",
      "\u001b[0;32m<ipython-input-17-bbb60b1eed28>\u001b[0m in \u001b[0;36m<module>\u001b[0;34m()\u001b[0m\n\u001b[1;32m     24\u001b[0m                 \u001b[0;34m[\u001b[0m\u001b[0mtrain_step\u001b[0m\u001b[0;34m,\u001b[0m \u001b[0merror\u001b[0m\u001b[0;34m,\u001b[0m \u001b[0maccuracy\u001b[0m\u001b[0;34m]\u001b[0m\u001b[0;34m,\u001b[0m\u001b[0;34m\u001b[0m\u001b[0m\n\u001b[1;32m     25\u001b[0m                 feed_dict={inputs: input_batch, targets: target_batch, keep_prob:0.8, \n\u001b[0;32m---> 26\u001b[0;31m                            phrase_train: True, learning_rate:schedule_learning_rate})\n\u001b[0m\u001b[1;32m     27\u001b[0m             \u001b[0mrunning_error\u001b[0m \u001b[0;34m+=\u001b[0m \u001b[0mbatch_error\u001b[0m\u001b[0;34m\u001b[0m\u001b[0m\n\u001b[1;32m     28\u001b[0m             \u001b[0mrunning_accuracy\u001b[0m \u001b[0;34m+=\u001b[0m \u001b[0mbatch_acc\u001b[0m\u001b[0;34m\u001b[0m\u001b[0m\n",
      "\u001b[0;32m/home/tomcai/miniconda2/envs/mlp/lib/python2.7/site-packages/tensorflow/python/client/session.pyc\u001b[0m in \u001b[0;36mrun\u001b[0;34m(self, fetches, feed_dict, options, run_metadata)\u001b[0m\n\u001b[1;32m    764\u001b[0m     \u001b[0;32mtry\u001b[0m\u001b[0;34m:\u001b[0m\u001b[0;34m\u001b[0m\u001b[0m\n\u001b[1;32m    765\u001b[0m       result = self._run(None, fetches, feed_dict, options_ptr,\n\u001b[0;32m--> 766\u001b[0;31m                          run_metadata_ptr)\n\u001b[0m\u001b[1;32m    767\u001b[0m       \u001b[0;32mif\u001b[0m \u001b[0mrun_metadata\u001b[0m\u001b[0;34m:\u001b[0m\u001b[0;34m\u001b[0m\u001b[0m\n\u001b[1;32m    768\u001b[0m         \u001b[0mproto_data\u001b[0m \u001b[0;34m=\u001b[0m \u001b[0mtf_session\u001b[0m\u001b[0;34m.\u001b[0m\u001b[0mTF_GetBuffer\u001b[0m\u001b[0;34m(\u001b[0m\u001b[0mrun_metadata_ptr\u001b[0m\u001b[0;34m)\u001b[0m\u001b[0;34m\u001b[0m\u001b[0m\n",
      "\u001b[0;32m/home/tomcai/miniconda2/envs/mlp/lib/python2.7/site-packages/tensorflow/python/client/session.pyc\u001b[0m in \u001b[0;36m_run\u001b[0;34m(self, handle, fetches, feed_dict, options, run_metadata)\u001b[0m\n\u001b[1;32m    962\u001b[0m     \u001b[0;32mif\u001b[0m \u001b[0mfinal_fetches\u001b[0m \u001b[0;32mor\u001b[0m \u001b[0mfinal_targets\u001b[0m\u001b[0;34m:\u001b[0m\u001b[0;34m\u001b[0m\u001b[0m\n\u001b[1;32m    963\u001b[0m       results = self._do_run(handle, final_targets, final_fetches,\n\u001b[0;32m--> 964\u001b[0;31m                              feed_dict_string, options, run_metadata)\n\u001b[0m\u001b[1;32m    965\u001b[0m     \u001b[0;32melse\u001b[0m\u001b[0;34m:\u001b[0m\u001b[0;34m\u001b[0m\u001b[0m\n\u001b[1;32m    966\u001b[0m       \u001b[0mresults\u001b[0m \u001b[0;34m=\u001b[0m \u001b[0;34m[\u001b[0m\u001b[0;34m]\u001b[0m\u001b[0;34m\u001b[0m\u001b[0m\n",
      "\u001b[0;32m/home/tomcai/miniconda2/envs/mlp/lib/python2.7/site-packages/tensorflow/python/client/session.pyc\u001b[0m in \u001b[0;36m_do_run\u001b[0;34m(self, handle, target_list, fetch_list, feed_dict, options, run_metadata)\u001b[0m\n\u001b[1;32m   1012\u001b[0m     \u001b[0;32mif\u001b[0m \u001b[0mhandle\u001b[0m \u001b[0;32mis\u001b[0m \u001b[0mNone\u001b[0m\u001b[0;34m:\u001b[0m\u001b[0;34m\u001b[0m\u001b[0m\n\u001b[1;32m   1013\u001b[0m       return self._do_call(_run_fn, self._session, feed_dict, fetch_list,\n\u001b[0;32m-> 1014\u001b[0;31m                            target_list, options, run_metadata)\n\u001b[0m\u001b[1;32m   1015\u001b[0m     \u001b[0;32melse\u001b[0m\u001b[0;34m:\u001b[0m\u001b[0;34m\u001b[0m\u001b[0m\n\u001b[1;32m   1016\u001b[0m       return self._do_call(_prun_fn, self._session, handle, feed_dict,\n",
      "\u001b[0;32m/home/tomcai/miniconda2/envs/mlp/lib/python2.7/site-packages/tensorflow/python/client/session.pyc\u001b[0m in \u001b[0;36m_do_call\u001b[0;34m(self, fn, *args)\u001b[0m\n\u001b[1;32m   1019\u001b[0m   \u001b[0;32mdef\u001b[0m \u001b[0m_do_call\u001b[0m\u001b[0;34m(\u001b[0m\u001b[0mself\u001b[0m\u001b[0;34m,\u001b[0m \u001b[0mfn\u001b[0m\u001b[0;34m,\u001b[0m \u001b[0;34m*\u001b[0m\u001b[0margs\u001b[0m\u001b[0;34m)\u001b[0m\u001b[0;34m:\u001b[0m\u001b[0;34m\u001b[0m\u001b[0m\n\u001b[1;32m   1020\u001b[0m     \u001b[0;32mtry\u001b[0m\u001b[0;34m:\u001b[0m\u001b[0;34m\u001b[0m\u001b[0m\n\u001b[0;32m-> 1021\u001b[0;31m       \u001b[0;32mreturn\u001b[0m \u001b[0mfn\u001b[0m\u001b[0;34m(\u001b[0m\u001b[0;34m*\u001b[0m\u001b[0margs\u001b[0m\u001b[0;34m)\u001b[0m\u001b[0;34m\u001b[0m\u001b[0m\n\u001b[0m\u001b[1;32m   1022\u001b[0m     \u001b[0;32mexcept\u001b[0m \u001b[0merrors\u001b[0m\u001b[0;34m.\u001b[0m\u001b[0mOpError\u001b[0m \u001b[0;32mas\u001b[0m \u001b[0me\u001b[0m\u001b[0;34m:\u001b[0m\u001b[0;34m\u001b[0m\u001b[0m\n\u001b[1;32m   1023\u001b[0m       \u001b[0mmessage\u001b[0m \u001b[0;34m=\u001b[0m \u001b[0mcompat\u001b[0m\u001b[0;34m.\u001b[0m\u001b[0mas_text\u001b[0m\u001b[0;34m(\u001b[0m\u001b[0me\u001b[0m\u001b[0;34m.\u001b[0m\u001b[0mmessage\u001b[0m\u001b[0;34m)\u001b[0m\u001b[0;34m\u001b[0m\u001b[0m\n",
      "\u001b[0;32m/home/tomcai/miniconda2/envs/mlp/lib/python2.7/site-packages/tensorflow/python/client/session.pyc\u001b[0m in \u001b[0;36m_run_fn\u001b[0;34m(session, feed_dict, fetch_list, target_list, options, run_metadata)\u001b[0m\n\u001b[1;32m   1001\u001b[0m         return tf_session.TF_Run(session, options,\n\u001b[1;32m   1002\u001b[0m                                  \u001b[0mfeed_dict\u001b[0m\u001b[0;34m,\u001b[0m \u001b[0mfetch_list\u001b[0m\u001b[0;34m,\u001b[0m \u001b[0mtarget_list\u001b[0m\u001b[0;34m,\u001b[0m\u001b[0;34m\u001b[0m\u001b[0m\n\u001b[0;32m-> 1003\u001b[0;31m                                  status, run_metadata)\n\u001b[0m\u001b[1;32m   1004\u001b[0m \u001b[0;34m\u001b[0m\u001b[0m\n\u001b[1;32m   1005\u001b[0m     \u001b[0;32mdef\u001b[0m \u001b[0m_prun_fn\u001b[0m\u001b[0;34m(\u001b[0m\u001b[0msession\u001b[0m\u001b[0;34m,\u001b[0m \u001b[0mhandle\u001b[0m\u001b[0;34m,\u001b[0m \u001b[0mfeed_dict\u001b[0m\u001b[0;34m,\u001b[0m \u001b[0mfetch_list\u001b[0m\u001b[0;34m)\u001b[0m\u001b[0;34m:\u001b[0m\u001b[0;34m\u001b[0m\u001b[0m\n",
      "\u001b[0;31mKeyboardInterrupt\u001b[0m: "
     ]
    }
   ],
   "source": [
    "train_log_exp2 = {'epoch_num':[],\n",
    "             'running_error':[],\n",
    "             'running_accuracy':[],\n",
    "             'running_time':[]\n",
    "            }\n",
    "valid_log_exp2 = {'epoch_num':[],\n",
    "             'running_error':[],\n",
    "             'running_accuracy':[],\n",
    "            }\n",
    "train_data.reset()\n",
    "valid_data.reset()\n",
    "\n",
    "schedule_learning_rate = 0.01\n",
    "with tf.Session() as sess:\n",
    "    sess.run(init,feed_dict={phrase_train: True,learning_rate: schedule_learning_rate})\n",
    "    for e in range(50):\n",
    "        running_error = 0.\n",
    "        running_accuracy = 0.\n",
    "        start_time = time.time()\n",
    "        if e % 15 == 0:\n",
    "            schedule_learning_rate /= 10\n",
    "        for input_batch, target_batch in train_data:\n",
    "            _, batch_error, batch_acc = sess.run(\n",
    "                [train_step, error, accuracy], \n",
    "                feed_dict={inputs: input_batch, targets: target_batch, keep_prob:0.8, \n",
    "                           phrase_train: True, learning_rate:schedule_learning_rate})\n",
    "            running_error += batch_error\n",
    "            running_accuracy += batch_acc\n",
    "        epoch_time = time.time() - start_time\n",
    "        running_error /= train_data.num_batches\n",
    "        running_accuracy /= train_data.num_batches\n",
    "        train_log_exp2['epoch_num'].append(e+1)\n",
    "        train_log_exp2['running_error'].append(running_error)\n",
    "        train_log_exp2['running_accuracy'].append(running_accuracy)\n",
    "        train_log_exp2['running_time'].append(epoch_time)\n",
    "        print('End of epoch {0:02d}: err(train)= {1:.2f} acc(train)= {2:.2f} time(train)= {3:.2f}'\n",
    "              .format(e + 1, running_error, running_accuracy, epoch_time))\n",
    "        if (e + 1) % 1 == 0:\n",
    "            valid_error = 0.\n",
    "            valid_accuracy = 0.\n",
    "            for input_batch, target_batch in valid_data:\n",
    "                batch_error, batch_acc = sess.run(\n",
    "                    [error, accuracy], \n",
    "                    feed_dict={inputs: input_batch, targets: target_batch, keep_prob:1.0, \n",
    "                               phrase_train: False})\n",
    "                valid_error += batch_error\n",
    "                valid_accuracy += batch_acc\n",
    "            valid_error /= valid_data.num_batches\n",
    "            valid_accuracy /= valid_data.num_batches\n",
    "            valid_log_exp2['epoch_num'].append(e+1)\n",
    "            valid_log_exp2['running_error'].append(valid_error)\n",
    "            valid_log_exp2['running_accuracy'].append(valid_accuracy)\n",
    "            print('                 err(valid)= {0:.2f} acc(valid)= {1:.2f}'\n",
    "                   .format(valid_error, valid_accuracy))"
   ]
  },
  {
   "cell_type": "code",
   "execution_count": null,
   "metadata": {
    "collapsed": true
   },
   "outputs": [],
   "source": []
  },
  {
   "cell_type": "code",
   "execution_count": null,
   "metadata": {
    "collapsed": true
   },
   "outputs": [],
   "source": []
  }
 ],
 "metadata": {
  "anaconda-cloud": {},
  "kernelspec": {
   "display_name": "Python 2",
   "language": "python",
   "name": "python2"
  },
  "language_info": {
   "codemirror_mode": {
    "name": "ipython",
    "version": 2
   },
   "file_extension": ".py",
   "mimetype": "text/x-python",
   "name": "python",
   "nbconvert_exporter": "python",
   "pygments_lexer": "ipython2",
   "version": "2.7.13"
  }
 },
 "nbformat": 4,
 "nbformat_minor": 1
}
